{
 "cells": [
  {
   "cell_type": "code",
   "execution_count": 1,
   "id": "d8a6cb53",
   "metadata": {},
   "outputs": [
    {
     "name": "stdout",
     "output_type": "stream",
     "text": [
      "céu limpo 23.75ºC\n"
     ]
    }
   ],
   "source": [
    "import requests\n",
    "\n",
    "# link do open_weather: https://openweathermap.org/\n",
    "\n",
    "API_KEY = \"d1425afa72590fca021239ebca908246\"\n",
    "cidade = \"Barueri\"\n",
    "link = f\"https://api.openweathermap.org/data/2.5/weather?q={cidade}&appid={API_KEY}&lang=pt_br\"\n",
    "\n",
    "requisicao = requests.get(link)\n",
    "requisicao_dic = requisicao.json()\n",
    "descricao = requisicao_dic['weather'][0]['description']\n",
    "temperatura = requisicao_dic['main']['temp'] - 273.15\n",
    "print(descricao, f\"{temperatura}ºC\")"
   ]
  },
  {
   "cell_type": "code",
   "execution_count": null,
   "id": "f29d5d1d",
   "metadata": {},
   "outputs": [],
   "source": []
  }
 ],
 "metadata": {
  "kernelspec": {
   "display_name": "Python 3 (ipykernel)",
   "language": "python",
   "name": "python3"
  },
  "language_info": {
   "codemirror_mode": {
    "name": "ipython",
    "version": 3
   },
   "file_extension": ".py",
   "mimetype": "text/x-python",
   "name": "python",
   "nbconvert_exporter": "python",
   "pygments_lexer": "ipython3",
   "version": "3.9.7"
  }
 },
 "nbformat": 4,
 "nbformat_minor": 5
}
