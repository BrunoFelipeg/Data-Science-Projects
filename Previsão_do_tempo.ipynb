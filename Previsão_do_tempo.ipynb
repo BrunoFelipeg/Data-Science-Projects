{
  "nbformat": 4,
  "nbformat_minor": 0,
  "metadata": {
    "colab": {
      "name": "Previsão do tempo.ipynb",
      "provenance": [],
      "collapsed_sections": [],
      "authorship_tag": "ABX9TyMbP016LtpGRZNrjF7aM2UN",
      "include_colab_link": true
    },
    "kernelspec": {
      "name": "python3",
      "display_name": "Python 3"
    },
    "language_info": {
      "name": "python"
    }
  },
  "cells": [
    {
      "cell_type": "markdown",
      "metadata": {
        "id": "view-in-github",
        "colab_type": "text"
      },
      "source": [
        "<a href=\"https://colab.research.google.com/github/BrunoFelipeg/Data-Science-Projects/blob/main/Previs%C3%A3o_do_tempo.ipynb\" target=\"_parent\"><img src=\"https://colab.research.google.com/assets/colab-badge.svg\" alt=\"Open In Colab\"/></a>"
      ]
    },
    {
      "cell_type": "code",
      "execution_count": 1,
      "metadata": {
        "colab": {
          "base_uri": "https://localhost:8080/"
        },
        "id": "pKDcf2j4dCUk",
        "outputId": "ab25561e-46b8-4782-ea38-da9b67668155"
      },
      "outputs": [
        {
          "output_type": "stream",
          "name": "stdout",
          "text": [
            "nublado 22.189999999999998ºC\n"
          ]
        }
      ],
      "source": [
        "import requests\n",
        "\n",
        "# link do open_weather: https://openweathermap.org/\n",
        "\n",
        "API_KEY = \"d1425afa72590fca021239ebca908246\"\n",
        "cidade = \"Barueri\"\n",
        "link = f\"https://api.openweathermap.org/data/2.5/weather?q={cidade}&appid={API_KEY}&lang=pt_br\"\n",
        "\n",
        "requisicao = requests.get(link)\n",
        "requisicao_dic = requisicao.json()\n",
        "descricao = requisicao_dic['weather'][0]['description']\n",
        "temperatura = requisicao_dic['main']['temp'] - 273.15\n",
        "print(descricao, f\"{temperatura}ºC\")"
      ]
    }
  ]
}