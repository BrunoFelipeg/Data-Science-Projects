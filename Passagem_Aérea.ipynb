{
  "nbformat": 4,
  "nbformat_minor": 0,
  "metadata": {
    "colab": {
      "name": "Passagem Aérea.ipynb",
      "provenance": [],
      "collapsed_sections": [],
      "authorship_tag": "ABX9TyNYYFPj0+p30mfTXQAUHFCa",
      "include_colab_link": true
    },
    "kernelspec": {
      "name": "python3",
      "display_name": "Python 3"
    },
    "language_info": {
      "name": "python"
    }
  },
  "cells": [
    {
      "cell_type": "markdown",
      "metadata": {
        "id": "view-in-github",
        "colab_type": "text"
      },
      "source": [
        "<a href=\"https://colab.research.google.com/github/BrunoFelipeg/Data-Science-Projects/blob/main/Passagem_A%C3%A9rea.ipynb\" target=\"_parent\"><img src=\"https://colab.research.google.com/assets/colab-badge.svg\" alt=\"Open In Colab\"/></a>"
      ]
    },
    {
      "cell_type": "markdown",
      "source": [
        "# <font color='WHITE'>Ciência de Dados</font>\n",
        "\n",
        "\n",
        "# <font color='GREY'> Prevendo Preço das Passagens Aéreas</font>\n",
        "![](https://d.wattpad.com/story_parts/936047760/images/162ab1c2bca0cab0265512801457.gif)\n",
        "\n",
        "\n",
        "\n",
        "\n",
        "\n",
        "\n",
        "\n",
        "\n",
        "\n",
        "\n"
      ],
      "metadata": {
        "id": "1JJV___yliGl"
      }
    },
    {
      "cell_type": "markdown",
      "source": [
        "# <font color=white>1° Problema de Negócio"
      ],
      "metadata": {
        "id": "Kypsmj1jltKj"
      }
    },
    {
      "cell_type": "markdown",
      "source": [
        "# **Previsão de tarifa de voo usando aprendizado de máquina**\n",
        "\n",
        "Você, como **Cientista de Dados da Área de inteligência de Mercado da Startup #VoeFácil** , precisa construir uma Máquina Preditiva de Preço de Passagens Aéreas para o App da Empresa.\n",
        "\n",
        "> Para isso vc precisa analisar o conjunto de dados de tarifas de voo, usando técnicas essenciais de análise e processamento de dados, e, em seguida, fazer algumas previsões sobre o preço do voo, com base em alguns recursos (variáveis/features), como o tipo de companhia aérea, o horário de chegada, o que é a hora de partida, qual a duração do voo, origem, destino e muito mais.\n",
        "\n",
        "![](data:image/jpeg;base64,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)\n",
        "\n"
      ],
      "metadata": {
        "id": "KJDxLfjel8q0"
      }
    },
    {
      "cell_type": "markdown",
      "source": [
        "# <font color=white> 2° Análise Exploratória dos Dados\n",
        "![](data:image/jpeg;base64,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)"
      ],
      "metadata": {
        "id": "NRZd35BTmRvF"
      }
    },
    {
      "cell_type": "code",
      "source": [
        "# Importando bibliotecas e pacotes\n",
        "\n",
        "# numpy = biblioteca parafazer calculo matriz\n",
        "import numpy as np\n",
        "# Pandas = ajuda a fazer o link com os dados\n",
        "import pandas as pd\n",
        "# Matplotlib = Criação dos gráficos\n",
        "import matplotlib.pyplot as plt\n",
        "# seaborn = Criação dos gráficos\n",
        "import seaborn as sns\n",
        "# StandardScaler = Padronização da formula\n",
        "from sklearn.preprocessing import StandardScaler\n",
        "#\n",
        "from sklearn.model_selection import train_test_split\n",
        "#\n",
        "from sklearn.metrics import mean_squared_error as mse\n",
        "#\n",
        "from sklearn.metrics import r2_score\n",
        "#\n",
        "from math import sqrt\n",
        "#\n",
        "from sklearn.tree import DecisionTreeRegressor\n",
        "#\n",
        "from sklearn.ensemble import RandomForestRegressor\n",
        "#\n",
        "from sklearn.preprocessing import LabelEncoder\n",
        "#\n",
        "from sklearn.model_selection import KFold\n",
        "#\n",
        "from sklearn.model_selection import train_test_split\n",
        "#\n",
        "from sklearn.model_selection import GridSearchCV\n"
      ],
      "metadata": {
        "id": "nfynedq7m4wc"
      },
      "execution_count": 49,
      "outputs": []
    },
    {
      "cell_type": "code",
      "source": [
        "# Conexão com os Dados\n",
        "train_df = pd.read_excel(\"Data_Train.xlsx\")\n",
        "train_df.head(2)"
      ],
      "metadata": {
        "colab": {
          "base_uri": "https://localhost:8080/",
          "height": 112
        },
        "id": "Va8SxfuMNNEL",
        "outputId": "b01533e8-e8b9-465c-8b34-eb9c42eb8515"
      },
      "execution_count": 50,
      "outputs": [
        {
          "output_type": "execute_result",
          "data": {
            "text/plain": [
              "     Airline Date_of_Journey    Source Destination                  Route  \\\n",
              "0     IndiGo      24/03/2019  Banglore   New Delhi              BLR → DEL   \n",
              "1  Air India       1/05/2019   Kolkata    Banglore  CCU → IXR → BBI → BLR   \n",
              "\n",
              "  Dep_Time  Arrival_Time Duration Total_Stops Additional_Info  Price  \n",
              "0    22:20  01:10 22 Mar   2h 50m    non-stop         No info   3897  \n",
              "1    05:50         13:15   7h 25m     2 stops         No info   7662  "
            ],
            "text/html": [
              "\n",
              "  <div id=\"df-90166424-9676-4a05-987e-a90eca7913dd\">\n",
              "    <div class=\"colab-df-container\">\n",
              "      <div>\n",
              "<style scoped>\n",
              "    .dataframe tbody tr th:only-of-type {\n",
              "        vertical-align: middle;\n",
              "    }\n",
              "\n",
              "    .dataframe tbody tr th {\n",
              "        vertical-align: top;\n",
              "    }\n",
              "\n",
              "    .dataframe thead th {\n",
              "        text-align: right;\n",
              "    }\n",
              "</style>\n",
              "<table border=\"1\" class=\"dataframe\">\n",
              "  <thead>\n",
              "    <tr style=\"text-align: right;\">\n",
              "      <th></th>\n",
              "      <th>Airline</th>\n",
              "      <th>Date_of_Journey</th>\n",
              "      <th>Source</th>\n",
              "      <th>Destination</th>\n",
              "      <th>Route</th>\n",
              "      <th>Dep_Time</th>\n",
              "      <th>Arrival_Time</th>\n",
              "      <th>Duration</th>\n",
              "      <th>Total_Stops</th>\n",
              "      <th>Additional_Info</th>\n",
              "      <th>Price</th>\n",
              "    </tr>\n",
              "  </thead>\n",
              "  <tbody>\n",
              "    <tr>\n",
              "      <th>0</th>\n",
              "      <td>IndiGo</td>\n",
              "      <td>24/03/2019</td>\n",
              "      <td>Banglore</td>\n",
              "      <td>New Delhi</td>\n",
              "      <td>BLR → DEL</td>\n",
              "      <td>22:20</td>\n",
              "      <td>01:10 22 Mar</td>\n",
              "      <td>2h 50m</td>\n",
              "      <td>non-stop</td>\n",
              "      <td>No info</td>\n",
              "      <td>3897</td>\n",
              "    </tr>\n",
              "    <tr>\n",
              "      <th>1</th>\n",
              "      <td>Air India</td>\n",
              "      <td>1/05/2019</td>\n",
              "      <td>Kolkata</td>\n",
              "      <td>Banglore</td>\n",
              "      <td>CCU → IXR → BBI → BLR</td>\n",
              "      <td>05:50</td>\n",
              "      <td>13:15</td>\n",
              "      <td>7h 25m</td>\n",
              "      <td>2 stops</td>\n",
              "      <td>No info</td>\n",
              "      <td>7662</td>\n",
              "    </tr>\n",
              "  </tbody>\n",
              "</table>\n",
              "</div>\n",
              "      <button class=\"colab-df-convert\" onclick=\"convertToInteractive('df-90166424-9676-4a05-987e-a90eca7913dd')\"\n",
              "              title=\"Convert this dataframe to an interactive table.\"\n",
              "              style=\"display:none;\">\n",
              "        \n",
              "  <svg xmlns=\"http://www.w3.org/2000/svg\" height=\"24px\"viewBox=\"0 0 24 24\"\n",
              "       width=\"24px\">\n",
              "    <path d=\"M0 0h24v24H0V0z\" fill=\"none\"/>\n",
              "    <path d=\"M18.56 5.44l.94 2.06.94-2.06 2.06-.94-2.06-.94-.94-2.06-.94 2.06-2.06.94zm-11 1L8.5 8.5l.94-2.06 2.06-.94-2.06-.94L8.5 2.5l-.94 2.06-2.06.94zm10 10l.94 2.06.94-2.06 2.06-.94-2.06-.94-.94-2.06-.94 2.06-2.06.94z\"/><path d=\"M17.41 7.96l-1.37-1.37c-.4-.4-.92-.59-1.43-.59-.52 0-1.04.2-1.43.59L10.3 9.45l-7.72 7.72c-.78.78-.78 2.05 0 2.83L4 21.41c.39.39.9.59 1.41.59.51 0 1.02-.2 1.41-.59l7.78-7.78 2.81-2.81c.8-.78.8-2.07 0-2.86zM5.41 20L4 18.59l7.72-7.72 1.47 1.35L5.41 20z\"/>\n",
              "  </svg>\n",
              "      </button>\n",
              "      \n",
              "  <style>\n",
              "    .colab-df-container {\n",
              "      display:flex;\n",
              "      flex-wrap:wrap;\n",
              "      gap: 12px;\n",
              "    }\n",
              "\n",
              "    .colab-df-convert {\n",
              "      background-color: #E8F0FE;\n",
              "      border: none;\n",
              "      border-radius: 50%;\n",
              "      cursor: pointer;\n",
              "      display: none;\n",
              "      fill: #1967D2;\n",
              "      height: 32px;\n",
              "      padding: 0 0 0 0;\n",
              "      width: 32px;\n",
              "    }\n",
              "\n",
              "    .colab-df-convert:hover {\n",
              "      background-color: #E2EBFA;\n",
              "      box-shadow: 0px 1px 2px rgba(60, 64, 67, 0.3), 0px 1px 3px 1px rgba(60, 64, 67, 0.15);\n",
              "      fill: #174EA6;\n",
              "    }\n",
              "\n",
              "    [theme=dark] .colab-df-convert {\n",
              "      background-color: #3B4455;\n",
              "      fill: #D2E3FC;\n",
              "    }\n",
              "\n",
              "    [theme=dark] .colab-df-convert:hover {\n",
              "      background-color: #434B5C;\n",
              "      box-shadow: 0px 1px 3px 1px rgba(0, 0, 0, 0.15);\n",
              "      filter: drop-shadow(0px 1px 2px rgba(0, 0, 0, 0.3));\n",
              "      fill: #FFFFFF;\n",
              "    }\n",
              "  </style>\n",
              "\n",
              "      <script>\n",
              "        const buttonEl =\n",
              "          document.querySelector('#df-90166424-9676-4a05-987e-a90eca7913dd button.colab-df-convert');\n",
              "        buttonEl.style.display =\n",
              "          google.colab.kernel.accessAllowed ? 'block' : 'none';\n",
              "\n",
              "        async function convertToInteractive(key) {\n",
              "          const element = document.querySelector('#df-90166424-9676-4a05-987e-a90eca7913dd');\n",
              "          const dataTable =\n",
              "            await google.colab.kernel.invokeFunction('convertToInteractive',\n",
              "                                                     [key], {});\n",
              "          if (!dataTable) return;\n",
              "\n",
              "          const docLinkHtml = 'Like what you see? Visit the ' +\n",
              "            '<a target=\"_blank\" href=https://colab.research.google.com/notebooks/data_table.ipynb>data table notebook</a>'\n",
              "            + ' to learn more about interactive tables.';\n",
              "          element.innerHTML = '';\n",
              "          dataTable['output_type'] = 'display_data';\n",
              "          await google.colab.output.renderOutput(dataTable, element);\n",
              "          const docLink = document.createElement('div');\n",
              "          docLink.innerHTML = docLinkHtml;\n",
              "          element.appendChild(docLink);\n",
              "        }\n",
              "      </script>\n",
              "    </div>\n",
              "  </div>\n",
              "  "
            ]
          },
          "metadata": {},
          "execution_count": 50
        }
      ]
    },
    {
      "cell_type": "code",
      "source": [
        "# Visualizando columnas\n",
        "train_df.columns"
      ],
      "metadata": {
        "colab": {
          "base_uri": "https://localhost:8080/"
        },
        "id": "8czb0LqzOTmP",
        "outputId": "f7b88a28-ddb7-41d5-fa31-cd4a4c0226a3"
      },
      "execution_count": 51,
      "outputs": [
        {
          "output_type": "execute_result",
          "data": {
            "text/plain": [
              "Index(['Airline', 'Date_of_Journey', 'Source', 'Destination', 'Route',\n",
              "       'Dep_Time', 'Arrival_Time', 'Duration', 'Total_Stops',\n",
              "       'Additional_Info', 'Price'],\n",
              "      dtype='object')"
            ]
          },
          "metadata": {},
          "execution_count": 51
        }
      ]
    },
    {
      "cell_type": "code",
      "source": [
        "# Informações dentro do nosso dados\n",
        "train_df.info()"
      ],
      "metadata": {
        "colab": {
          "base_uri": "https://localhost:8080/"
        },
        "id": "dX1pQNuGOi42",
        "outputId": "a818b0a5-d781-4c25-b217-1c86c96f033a"
      },
      "execution_count": 52,
      "outputs": [
        {
          "output_type": "stream",
          "name": "stdout",
          "text": [
            "<class 'pandas.core.frame.DataFrame'>\n",
            "RangeIndex: 10683 entries, 0 to 10682\n",
            "Data columns (total 11 columns):\n",
            " #   Column           Non-Null Count  Dtype \n",
            "---  ------           --------------  ----- \n",
            " 0   Airline          10683 non-null  object\n",
            " 1   Date_of_Journey  10683 non-null  object\n",
            " 2   Source           10683 non-null  object\n",
            " 3   Destination      10683 non-null  object\n",
            " 4   Route            10682 non-null  object\n",
            " 5   Dep_Time         10683 non-null  object\n",
            " 6   Arrival_Time     10683 non-null  object\n",
            " 7   Duration         10683 non-null  object\n",
            " 8   Total_Stops      10682 non-null  object\n",
            " 9   Additional_Info  10683 non-null  object\n",
            " 10  Price            10683 non-null  int64 \n",
            "dtypes: int64(1), object(10)\n",
            "memory usage: 918.2+ KB\n"
          ]
        }
      ]
    },
    {
      "cell_type": "code",
      "source": [
        "# Estastiticas das variaveis\n",
        "train_df.describe()"
      ],
      "metadata": {
        "colab": {
          "base_uri": "https://localhost:8080/",
          "height": 300
        },
        "id": "D6XQ2wVvPKyh",
        "outputId": "ba9ae1a8-7977-46be-f0f7-85a76a11a8f0"
      },
      "execution_count": 53,
      "outputs": [
        {
          "output_type": "execute_result",
          "data": {
            "text/plain": [
              "              Price\n",
              "count  10683.000000\n",
              "mean    9087.064121\n",
              "std     4611.359167\n",
              "min     1759.000000\n",
              "25%     5277.000000\n",
              "50%     8372.000000\n",
              "75%    12373.000000\n",
              "max    79512.000000"
            ],
            "text/html": [
              "\n",
              "  <div id=\"df-a26ef9d6-3831-4d73-b9b8-c9cb97e8e5a7\">\n",
              "    <div class=\"colab-df-container\">\n",
              "      <div>\n",
              "<style scoped>\n",
              "    .dataframe tbody tr th:only-of-type {\n",
              "        vertical-align: middle;\n",
              "    }\n",
              "\n",
              "    .dataframe tbody tr th {\n",
              "        vertical-align: top;\n",
              "    }\n",
              "\n",
              "    .dataframe thead th {\n",
              "        text-align: right;\n",
              "    }\n",
              "</style>\n",
              "<table border=\"1\" class=\"dataframe\">\n",
              "  <thead>\n",
              "    <tr style=\"text-align: right;\">\n",
              "      <th></th>\n",
              "      <th>Price</th>\n",
              "    </tr>\n",
              "  </thead>\n",
              "  <tbody>\n",
              "    <tr>\n",
              "      <th>count</th>\n",
              "      <td>10683.000000</td>\n",
              "    </tr>\n",
              "    <tr>\n",
              "      <th>mean</th>\n",
              "      <td>9087.064121</td>\n",
              "    </tr>\n",
              "    <tr>\n",
              "      <th>std</th>\n",
              "      <td>4611.359167</td>\n",
              "    </tr>\n",
              "    <tr>\n",
              "      <th>min</th>\n",
              "      <td>1759.000000</td>\n",
              "    </tr>\n",
              "    <tr>\n",
              "      <th>25%</th>\n",
              "      <td>5277.000000</td>\n",
              "    </tr>\n",
              "    <tr>\n",
              "      <th>50%</th>\n",
              "      <td>8372.000000</td>\n",
              "    </tr>\n",
              "    <tr>\n",
              "      <th>75%</th>\n",
              "      <td>12373.000000</td>\n",
              "    </tr>\n",
              "    <tr>\n",
              "      <th>max</th>\n",
              "      <td>79512.000000</td>\n",
              "    </tr>\n",
              "  </tbody>\n",
              "</table>\n",
              "</div>\n",
              "      <button class=\"colab-df-convert\" onclick=\"convertToInteractive('df-a26ef9d6-3831-4d73-b9b8-c9cb97e8e5a7')\"\n",
              "              title=\"Convert this dataframe to an interactive table.\"\n",
              "              style=\"display:none;\">\n",
              "        \n",
              "  <svg xmlns=\"http://www.w3.org/2000/svg\" height=\"24px\"viewBox=\"0 0 24 24\"\n",
              "       width=\"24px\">\n",
              "    <path d=\"M0 0h24v24H0V0z\" fill=\"none\"/>\n",
              "    <path d=\"M18.56 5.44l.94 2.06.94-2.06 2.06-.94-2.06-.94-.94-2.06-.94 2.06-2.06.94zm-11 1L8.5 8.5l.94-2.06 2.06-.94-2.06-.94L8.5 2.5l-.94 2.06-2.06.94zm10 10l.94 2.06.94-2.06 2.06-.94-2.06-.94-.94-2.06-.94 2.06-2.06.94z\"/><path d=\"M17.41 7.96l-1.37-1.37c-.4-.4-.92-.59-1.43-.59-.52 0-1.04.2-1.43.59L10.3 9.45l-7.72 7.72c-.78.78-.78 2.05 0 2.83L4 21.41c.39.39.9.59 1.41.59.51 0 1.02-.2 1.41-.59l7.78-7.78 2.81-2.81c.8-.78.8-2.07 0-2.86zM5.41 20L4 18.59l7.72-7.72 1.47 1.35L5.41 20z\"/>\n",
              "  </svg>\n",
              "      </button>\n",
              "      \n",
              "  <style>\n",
              "    .colab-df-container {\n",
              "      display:flex;\n",
              "      flex-wrap:wrap;\n",
              "      gap: 12px;\n",
              "    }\n",
              "\n",
              "    .colab-df-convert {\n",
              "      background-color: #E8F0FE;\n",
              "      border: none;\n",
              "      border-radius: 50%;\n",
              "      cursor: pointer;\n",
              "      display: none;\n",
              "      fill: #1967D2;\n",
              "      height: 32px;\n",
              "      padding: 0 0 0 0;\n",
              "      width: 32px;\n",
              "    }\n",
              "\n",
              "    .colab-df-convert:hover {\n",
              "      background-color: #E2EBFA;\n",
              "      box-shadow: 0px 1px 2px rgba(60, 64, 67, 0.3), 0px 1px 3px 1px rgba(60, 64, 67, 0.15);\n",
              "      fill: #174EA6;\n",
              "    }\n",
              "\n",
              "    [theme=dark] .colab-df-convert {\n",
              "      background-color: #3B4455;\n",
              "      fill: #D2E3FC;\n",
              "    }\n",
              "\n",
              "    [theme=dark] .colab-df-convert:hover {\n",
              "      background-color: #434B5C;\n",
              "      box-shadow: 0px 1px 3px 1px rgba(0, 0, 0, 0.15);\n",
              "      filter: drop-shadow(0px 1px 2px rgba(0, 0, 0, 0.3));\n",
              "      fill: #FFFFFF;\n",
              "    }\n",
              "  </style>\n",
              "\n",
              "      <script>\n",
              "        const buttonEl =\n",
              "          document.querySelector('#df-a26ef9d6-3831-4d73-b9b8-c9cb97e8e5a7 button.colab-df-convert');\n",
              "        buttonEl.style.display =\n",
              "          google.colab.kernel.accessAllowed ? 'block' : 'none';\n",
              "\n",
              "        async function convertToInteractive(key) {\n",
              "          const element = document.querySelector('#df-a26ef9d6-3831-4d73-b9b8-c9cb97e8e5a7');\n",
              "          const dataTable =\n",
              "            await google.colab.kernel.invokeFunction('convertToInteractive',\n",
              "                                                     [key], {});\n",
              "          if (!dataTable) return;\n",
              "\n",
              "          const docLinkHtml = 'Like what you see? Visit the ' +\n",
              "            '<a target=\"_blank\" href=https://colab.research.google.com/notebooks/data_table.ipynb>data table notebook</a>'\n",
              "            + ' to learn more about interactive tables.';\n",
              "          element.innerHTML = '';\n",
              "          dataTable['output_type'] = 'display_data';\n",
              "          await google.colab.output.renderOutput(dataTable, element);\n",
              "          const docLink = document.createElement('div');\n",
              "          docLink.innerHTML = docLinkHtml;\n",
              "          element.appendChild(docLink);\n",
              "        }\n",
              "      </script>\n",
              "    </div>\n",
              "  </div>\n",
              "  "
            ]
          },
          "metadata": {},
          "execution_count": 53
        }
      ]
    },
    {
      "cell_type": "code",
      "source": [
        "# Verifica valores Missing\n",
        "'''Verificando todos os valores nulos e somando-os'''\n",
        "\n",
        "train_df.isnull().sum()"
      ],
      "metadata": {
        "colab": {
          "base_uri": "https://localhost:8080/"
        },
        "id": "kynebJRaPaqU",
        "outputId": "fc600632-461a-46ec-dfcf-fc96d050740f"
      },
      "execution_count": 54,
      "outputs": [
        {
          "output_type": "execute_result",
          "data": {
            "text/plain": [
              "Airline            0\n",
              "Date_of_Journey    0\n",
              "Source             0\n",
              "Destination        0\n",
              "Route              1\n",
              "Dep_Time           0\n",
              "Arrival_Time       0\n",
              "Duration           0\n",
              "Total_Stops        1\n",
              "Additional_Info    0\n",
              "Price              0\n",
              "dtype: int64"
            ]
          },
          "metadata": {},
          "execution_count": 54
        }
      ]
    },
    {
      "cell_type": "code",
      "source": [
        "# Eliminando valores nulos\n",
        "train_df.dropna(inplace = True)"
      ],
      "metadata": {
        "id": "rzrpQmNRQuc-"
      },
      "execution_count": 55,
      "outputs": []
    },
    {
      "cell_type": "code",
      "source": [
        "# Verificando novamente os valores nulos\n",
        "train_df.isnull().sum()"
      ],
      "metadata": {
        "colab": {
          "base_uri": "https://localhost:8080/"
        },
        "id": "KguQ6ro2RDsu",
        "outputId": "fa512f28-c164-4151-abe8-7cdd24163bc4"
      },
      "execution_count": 56,
      "outputs": [
        {
          "output_type": "execute_result",
          "data": {
            "text/plain": [
              "Airline            0\n",
              "Date_of_Journey    0\n",
              "Source             0\n",
              "Destination        0\n",
              "Route              0\n",
              "Dep_Time           0\n",
              "Arrival_Time       0\n",
              "Duration           0\n",
              "Total_Stops        0\n",
              "Additional_Info    0\n",
              "Price              0\n",
              "dtype: int64"
            ]
          },
          "metadata": {},
          "execution_count": 56
        }
      ]
    },
    {
      "cell_type": "code",
      "source": [
        "# Verificando informações duplicadas\n",
        "train_df[train_df.duplicated()].head()"
      ],
      "metadata": {
        "colab": {
          "base_uri": "https://localhost:8080/",
          "height": 206
        },
        "id": "wbu5A3bTRXb4",
        "outputId": "bbfa0c4c-52f0-47f7-d618-fb9ba339310d"
      },
      "execution_count": 57,
      "outputs": [
        {
          "output_type": "execute_result",
          "data": {
            "text/plain": [
              "          Airline Date_of_Journey    Source Destination  \\\n",
              "683   Jet Airways       1/06/2019     Delhi      Cochin   \n",
              "1061    Air India      21/05/2019     Delhi      Cochin   \n",
              "1348    Air India      18/05/2019     Delhi      Cochin   \n",
              "1418  Jet Airways       6/06/2019     Delhi      Cochin   \n",
              "1674       IndiGo      24/03/2019  Banglore   New Delhi   \n",
              "\n",
              "                      Route Dep_Time  Arrival_Time Duration Total_Stops  \\\n",
              "683   DEL → NAG → BOM → COK    14:35  04:25 02 Jun  13h 50m     2 stops   \n",
              "1061  DEL → GOI → BOM → COK    22:00  19:15 22 May  21h 15m     2 stops   \n",
              "1348  DEL → HYD → BOM → COK    17:15  19:15 19 May      26h     2 stops   \n",
              "1418  DEL → JAI → BOM → COK    05:30  04:25 07 Jun  22h 55m     2 stops   \n",
              "1674              BLR → DEL    18:25         21:20   2h 55m    non-stop   \n",
              "\n",
              "                  Additional_Info  Price  \n",
              "683                       No info  13376  \n",
              "1061                      No info  10231  \n",
              "1348                      No info  12392  \n",
              "1418  In-flight meal not included  10368  \n",
              "1674                      No info   7303  "
            ],
            "text/html": [
              "\n",
              "  <div id=\"df-9f98b777-caa8-4cba-b604-ddecdbaf82b8\">\n",
              "    <div class=\"colab-df-container\">\n",
              "      <div>\n",
              "<style scoped>\n",
              "    .dataframe tbody tr th:only-of-type {\n",
              "        vertical-align: middle;\n",
              "    }\n",
              "\n",
              "    .dataframe tbody tr th {\n",
              "        vertical-align: top;\n",
              "    }\n",
              "\n",
              "    .dataframe thead th {\n",
              "        text-align: right;\n",
              "    }\n",
              "</style>\n",
              "<table border=\"1\" class=\"dataframe\">\n",
              "  <thead>\n",
              "    <tr style=\"text-align: right;\">\n",
              "      <th></th>\n",
              "      <th>Airline</th>\n",
              "      <th>Date_of_Journey</th>\n",
              "      <th>Source</th>\n",
              "      <th>Destination</th>\n",
              "      <th>Route</th>\n",
              "      <th>Dep_Time</th>\n",
              "      <th>Arrival_Time</th>\n",
              "      <th>Duration</th>\n",
              "      <th>Total_Stops</th>\n",
              "      <th>Additional_Info</th>\n",
              "      <th>Price</th>\n",
              "    </tr>\n",
              "  </thead>\n",
              "  <tbody>\n",
              "    <tr>\n",
              "      <th>683</th>\n",
              "      <td>Jet Airways</td>\n",
              "      <td>1/06/2019</td>\n",
              "      <td>Delhi</td>\n",
              "      <td>Cochin</td>\n",
              "      <td>DEL → NAG → BOM → COK</td>\n",
              "      <td>14:35</td>\n",
              "      <td>04:25 02 Jun</td>\n",
              "      <td>13h 50m</td>\n",
              "      <td>2 stops</td>\n",
              "      <td>No info</td>\n",
              "      <td>13376</td>\n",
              "    </tr>\n",
              "    <tr>\n",
              "      <th>1061</th>\n",
              "      <td>Air India</td>\n",
              "      <td>21/05/2019</td>\n",
              "      <td>Delhi</td>\n",
              "      <td>Cochin</td>\n",
              "      <td>DEL → GOI → BOM → COK</td>\n",
              "      <td>22:00</td>\n",
              "      <td>19:15 22 May</td>\n",
              "      <td>21h 15m</td>\n",
              "      <td>2 stops</td>\n",
              "      <td>No info</td>\n",
              "      <td>10231</td>\n",
              "    </tr>\n",
              "    <tr>\n",
              "      <th>1348</th>\n",
              "      <td>Air India</td>\n",
              "      <td>18/05/2019</td>\n",
              "      <td>Delhi</td>\n",
              "      <td>Cochin</td>\n",
              "      <td>DEL → HYD → BOM → COK</td>\n",
              "      <td>17:15</td>\n",
              "      <td>19:15 19 May</td>\n",
              "      <td>26h</td>\n",
              "      <td>2 stops</td>\n",
              "      <td>No info</td>\n",
              "      <td>12392</td>\n",
              "    </tr>\n",
              "    <tr>\n",
              "      <th>1418</th>\n",
              "      <td>Jet Airways</td>\n",
              "      <td>6/06/2019</td>\n",
              "      <td>Delhi</td>\n",
              "      <td>Cochin</td>\n",
              "      <td>DEL → JAI → BOM → COK</td>\n",
              "      <td>05:30</td>\n",
              "      <td>04:25 07 Jun</td>\n",
              "      <td>22h 55m</td>\n",
              "      <td>2 stops</td>\n",
              "      <td>In-flight meal not included</td>\n",
              "      <td>10368</td>\n",
              "    </tr>\n",
              "    <tr>\n",
              "      <th>1674</th>\n",
              "      <td>IndiGo</td>\n",
              "      <td>24/03/2019</td>\n",
              "      <td>Banglore</td>\n",
              "      <td>New Delhi</td>\n",
              "      <td>BLR → DEL</td>\n",
              "      <td>18:25</td>\n",
              "      <td>21:20</td>\n",
              "      <td>2h 55m</td>\n",
              "      <td>non-stop</td>\n",
              "      <td>No info</td>\n",
              "      <td>7303</td>\n",
              "    </tr>\n",
              "  </tbody>\n",
              "</table>\n",
              "</div>\n",
              "      <button class=\"colab-df-convert\" onclick=\"convertToInteractive('df-9f98b777-caa8-4cba-b604-ddecdbaf82b8')\"\n",
              "              title=\"Convert this dataframe to an interactive table.\"\n",
              "              style=\"display:none;\">\n",
              "        \n",
              "  <svg xmlns=\"http://www.w3.org/2000/svg\" height=\"24px\"viewBox=\"0 0 24 24\"\n",
              "       width=\"24px\">\n",
              "    <path d=\"M0 0h24v24H0V0z\" fill=\"none\"/>\n",
              "    <path d=\"M18.56 5.44l.94 2.06.94-2.06 2.06-.94-2.06-.94-.94-2.06-.94 2.06-2.06.94zm-11 1L8.5 8.5l.94-2.06 2.06-.94-2.06-.94L8.5 2.5l-.94 2.06-2.06.94zm10 10l.94 2.06.94-2.06 2.06-.94-2.06-.94-.94-2.06-.94 2.06-2.06.94z\"/><path d=\"M17.41 7.96l-1.37-1.37c-.4-.4-.92-.59-1.43-.59-.52 0-1.04.2-1.43.59L10.3 9.45l-7.72 7.72c-.78.78-.78 2.05 0 2.83L4 21.41c.39.39.9.59 1.41.59.51 0 1.02-.2 1.41-.59l7.78-7.78 2.81-2.81c.8-.78.8-2.07 0-2.86zM5.41 20L4 18.59l7.72-7.72 1.47 1.35L5.41 20z\"/>\n",
              "  </svg>\n",
              "      </button>\n",
              "      \n",
              "  <style>\n",
              "    .colab-df-container {\n",
              "      display:flex;\n",
              "      flex-wrap:wrap;\n",
              "      gap: 12px;\n",
              "    }\n",
              "\n",
              "    .colab-df-convert {\n",
              "      background-color: #E8F0FE;\n",
              "      border: none;\n",
              "      border-radius: 50%;\n",
              "      cursor: pointer;\n",
              "      display: none;\n",
              "      fill: #1967D2;\n",
              "      height: 32px;\n",
              "      padding: 0 0 0 0;\n",
              "      width: 32px;\n",
              "    }\n",
              "\n",
              "    .colab-df-convert:hover {\n",
              "      background-color: #E2EBFA;\n",
              "      box-shadow: 0px 1px 2px rgba(60, 64, 67, 0.3), 0px 1px 3px 1px rgba(60, 64, 67, 0.15);\n",
              "      fill: #174EA6;\n",
              "    }\n",
              "\n",
              "    [theme=dark] .colab-df-convert {\n",
              "      background-color: #3B4455;\n",
              "      fill: #D2E3FC;\n",
              "    }\n",
              "\n",
              "    [theme=dark] .colab-df-convert:hover {\n",
              "      background-color: #434B5C;\n",
              "      box-shadow: 0px 1px 3px 1px rgba(0, 0, 0, 0.15);\n",
              "      filter: drop-shadow(0px 1px 2px rgba(0, 0, 0, 0.3));\n",
              "      fill: #FFFFFF;\n",
              "    }\n",
              "  </style>\n",
              "\n",
              "      <script>\n",
              "        const buttonEl =\n",
              "          document.querySelector('#df-9f98b777-caa8-4cba-b604-ddecdbaf82b8 button.colab-df-convert');\n",
              "        buttonEl.style.display =\n",
              "          google.colab.kernel.accessAllowed ? 'block' : 'none';\n",
              "\n",
              "        async function convertToInteractive(key) {\n",
              "          const element = document.querySelector('#df-9f98b777-caa8-4cba-b604-ddecdbaf82b8');\n",
              "          const dataTable =\n",
              "            await google.colab.kernel.invokeFunction('convertToInteractive',\n",
              "                                                     [key], {});\n",
              "          if (!dataTable) return;\n",
              "\n",
              "          const docLinkHtml = 'Like what you see? Visit the ' +\n",
              "            '<a target=\"_blank\" href=https://colab.research.google.com/notebooks/data_table.ipynb>data table notebook</a>'\n",
              "            + ' to learn more about interactive tables.';\n",
              "          element.innerHTML = '';\n",
              "          dataTable['output_type'] = 'display_data';\n",
              "          await google.colab.output.renderOutput(dataTable, element);\n",
              "          const docLink = document.createElement('div');\n",
              "          docLink.innerHTML = docLinkHtml;\n",
              "          element.appendChild(docLink);\n",
              "        }\n",
              "      </script>\n",
              "    </div>\n",
              "  </div>\n",
              "  "
            ]
          },
          "metadata": {},
          "execution_count": 57
        }
      ]
    },
    {
      "cell_type": "code",
      "source": [
        "# ELiminando informações duplicadas e mantendo apenas a primeira\n",
        "train_df.drop_duplicates(keep='first', inplace=True)"
      ],
      "metadata": {
        "id": "svKVpi6LSFK6"
      },
      "execution_count": 58,
      "outputs": []
    },
    {
      "cell_type": "code",
      "source": [
        "# Verifica a eliminação\n",
        "train_df[train_df.duplicated()].head()"
      ],
      "metadata": {
        "colab": {
          "base_uri": "https://localhost:8080/",
          "height": 50
        },
        "id": "zjw_v1l2SYHZ",
        "outputId": "29641854-6928-4a19-a36e-729c457ad3d7"
      },
      "execution_count": 59,
      "outputs": [
        {
          "output_type": "execute_result",
          "data": {
            "text/plain": [
              "Empty DataFrame\n",
              "Columns: [Airline, Date_of_Journey, Source, Destination, Route, Dep_Time, Arrival_Time, Duration, Total_Stops, Additional_Info, Price]\n",
              "Index: []"
            ],
            "text/html": [
              "\n",
              "  <div id=\"df-f554f5d3-cf6b-4433-980f-779530c9304d\">\n",
              "    <div class=\"colab-df-container\">\n",
              "      <div>\n",
              "<style scoped>\n",
              "    .dataframe tbody tr th:only-of-type {\n",
              "        vertical-align: middle;\n",
              "    }\n",
              "\n",
              "    .dataframe tbody tr th {\n",
              "        vertical-align: top;\n",
              "    }\n",
              "\n",
              "    .dataframe thead th {\n",
              "        text-align: right;\n",
              "    }\n",
              "</style>\n",
              "<table border=\"1\" class=\"dataframe\">\n",
              "  <thead>\n",
              "    <tr style=\"text-align: right;\">\n",
              "      <th></th>\n",
              "      <th>Airline</th>\n",
              "      <th>Date_of_Journey</th>\n",
              "      <th>Source</th>\n",
              "      <th>Destination</th>\n",
              "      <th>Route</th>\n",
              "      <th>Dep_Time</th>\n",
              "      <th>Arrival_Time</th>\n",
              "      <th>Duration</th>\n",
              "      <th>Total_Stops</th>\n",
              "      <th>Additional_Info</th>\n",
              "      <th>Price</th>\n",
              "    </tr>\n",
              "  </thead>\n",
              "  <tbody>\n",
              "  </tbody>\n",
              "</table>\n",
              "</div>\n",
              "      <button class=\"colab-df-convert\" onclick=\"convertToInteractive('df-f554f5d3-cf6b-4433-980f-779530c9304d')\"\n",
              "              title=\"Convert this dataframe to an interactive table.\"\n",
              "              style=\"display:none;\">\n",
              "        \n",
              "  <svg xmlns=\"http://www.w3.org/2000/svg\" height=\"24px\"viewBox=\"0 0 24 24\"\n",
              "       width=\"24px\">\n",
              "    <path d=\"M0 0h24v24H0V0z\" fill=\"none\"/>\n",
              "    <path d=\"M18.56 5.44l.94 2.06.94-2.06 2.06-.94-2.06-.94-.94-2.06-.94 2.06-2.06.94zm-11 1L8.5 8.5l.94-2.06 2.06-.94-2.06-.94L8.5 2.5l-.94 2.06-2.06.94zm10 10l.94 2.06.94-2.06 2.06-.94-2.06-.94-.94-2.06-.94 2.06-2.06.94z\"/><path d=\"M17.41 7.96l-1.37-1.37c-.4-.4-.92-.59-1.43-.59-.52 0-1.04.2-1.43.59L10.3 9.45l-7.72 7.72c-.78.78-.78 2.05 0 2.83L4 21.41c.39.39.9.59 1.41.59.51 0 1.02-.2 1.41-.59l7.78-7.78 2.81-2.81c.8-.78.8-2.07 0-2.86zM5.41 20L4 18.59l7.72-7.72 1.47 1.35L5.41 20z\"/>\n",
              "  </svg>\n",
              "      </button>\n",
              "      \n",
              "  <style>\n",
              "    .colab-df-container {\n",
              "      display:flex;\n",
              "      flex-wrap:wrap;\n",
              "      gap: 12px;\n",
              "    }\n",
              "\n",
              "    .colab-df-convert {\n",
              "      background-color: #E8F0FE;\n",
              "      border: none;\n",
              "      border-radius: 50%;\n",
              "      cursor: pointer;\n",
              "      display: none;\n",
              "      fill: #1967D2;\n",
              "      height: 32px;\n",
              "      padding: 0 0 0 0;\n",
              "      width: 32px;\n",
              "    }\n",
              "\n",
              "    .colab-df-convert:hover {\n",
              "      background-color: #E2EBFA;\n",
              "      box-shadow: 0px 1px 2px rgba(60, 64, 67, 0.3), 0px 1px 3px 1px rgba(60, 64, 67, 0.15);\n",
              "      fill: #174EA6;\n",
              "    }\n",
              "\n",
              "    [theme=dark] .colab-df-convert {\n",
              "      background-color: #3B4455;\n",
              "      fill: #D2E3FC;\n",
              "    }\n",
              "\n",
              "    [theme=dark] .colab-df-convert:hover {\n",
              "      background-color: #434B5C;\n",
              "      box-shadow: 0px 1px 3px 1px rgba(0, 0, 0, 0.15);\n",
              "      filter: drop-shadow(0px 1px 2px rgba(0, 0, 0, 0.3));\n",
              "      fill: #FFFFFF;\n",
              "    }\n",
              "  </style>\n",
              "\n",
              "      <script>\n",
              "        const buttonEl =\n",
              "          document.querySelector('#df-f554f5d3-cf6b-4433-980f-779530c9304d button.colab-df-convert');\n",
              "        buttonEl.style.display =\n",
              "          google.colab.kernel.accessAllowed ? 'block' : 'none';\n",
              "\n",
              "        async function convertToInteractive(key) {\n",
              "          const element = document.querySelector('#df-f554f5d3-cf6b-4433-980f-779530c9304d');\n",
              "          const dataTable =\n",
              "            await google.colab.kernel.invokeFunction('convertToInteractive',\n",
              "                                                     [key], {});\n",
              "          if (!dataTable) return;\n",
              "\n",
              "          const docLinkHtml = 'Like what you see? Visit the ' +\n",
              "            '<a target=\"_blank\" href=https://colab.research.google.com/notebooks/data_table.ipynb>data table notebook</a>'\n",
              "            + ' to learn more about interactive tables.';\n",
              "          element.innerHTML = '';\n",
              "          dataTable['output_type'] = 'display_data';\n",
              "          await google.colab.output.renderOutput(dataTable, element);\n",
              "          const docLink = document.createElement('div');\n",
              "          docLink.innerHTML = docLinkHtml;\n",
              "          element.appendChild(docLink);\n",
              "        }\n",
              "      </script>\n",
              "    </div>\n",
              "  </div>\n",
              "  "
            ]
          },
          "metadata": {},
          "execution_count": 59
        }
      ]
    },
    {
      "cell_type": "code",
      "source": [
        "# Verificando dimensoes do dataset\n",
        "train_df.shape\n",
        "# Linhas, Colunas"
      ],
      "metadata": {
        "colab": {
          "base_uri": "https://localhost:8080/"
        },
        "id": "SlV40e_KS0Y4",
        "outputId": "e6ea0826-32ad-40fa-d5d3-fc5a6e1ee1ff"
      },
      "execution_count": 60,
      "outputs": [
        {
          "output_type": "execute_result",
          "data": {
            "text/plain": [
              "(10462, 11)"
            ]
          },
          "metadata": {},
          "execution_count": 60
        }
      ]
    },
    {
      "cell_type": "code",
      "source": [
        "# Tabela de frequencia \"Additional_Info\"\n",
        "train_df[\"Additional_Info\"].value_counts()"
      ],
      "metadata": {
        "colab": {
          "base_uri": "https://localhost:8080/"
        },
        "id": "Gb2U7cZiTE7V",
        "outputId": "f21ef373-8bfd-4260-e28b-5baa93e4ba0b"
      },
      "execution_count": 61,
      "outputs": [
        {
          "output_type": "execute_result",
          "data": {
            "text/plain": [
              "No info                         8182\n",
              "In-flight meal not included     1926\n",
              "No check-in baggage included     318\n",
              "1 Long layover                    19\n",
              "Change airports                    7\n",
              "Business class                     4\n",
              "No Info                            3\n",
              "1 Short layover                    1\n",
              "Red-eye flight                     1\n",
              "2 Long layover                     1\n",
              "Name: Additional_Info, dtype: int64"
            ]
          },
          "metadata": {},
          "execution_count": 61
        }
      ]
    },
    {
      "cell_type": "code",
      "source": [
        "# Verifica valoroes únicos para variável \"Airline\"\n",
        "train_df[\"Airline\"].unique()"
      ],
      "metadata": {
        "colab": {
          "base_uri": "https://localhost:8080/"
        },
        "id": "PSpocPd4TpvX",
        "outputId": "43ce29e9-f791-471e-f444-6d45a1a23614"
      },
      "execution_count": 62,
      "outputs": [
        {
          "output_type": "execute_result",
          "data": {
            "text/plain": [
              "array(['IndiGo', 'Air India', 'Jet Airways', 'SpiceJet',\n",
              "       'Multiple carriers', 'GoAir', 'Vistara', 'Air Asia',\n",
              "       'Vistara Premium economy', 'Jet Airways Business',\n",
              "       'Multiple carriers Premium economy', 'Trujet'], dtype=object)"
            ]
          },
          "metadata": {},
          "execution_count": 62
        }
      ]
    },
    {
      "cell_type": "code",
      "source": [
        "# Tabela de frequencia da variável \"Airline\"\n",
        "train_df[\"Airline\"].value_counts()"
      ],
      "metadata": {
        "colab": {
          "base_uri": "https://localhost:8080/"
        },
        "id": "1DtcIRgcVghl",
        "outputId": "b483b4fc-b8ed-4462-af8f-2e9a6db15a8f"
      },
      "execution_count": 63,
      "outputs": [
        {
          "output_type": "execute_result",
          "data": {
            "text/plain": [
              "Jet Airways                          3700\n",
              "IndiGo                               2043\n",
              "Air India                            1694\n",
              "Multiple carriers                    1196\n",
              "SpiceJet                              815\n",
              "Vistara                               478\n",
              "Air Asia                              319\n",
              "GoAir                                 194\n",
              "Multiple carriers Premium economy      13\n",
              "Jet Airways Business                    6\n",
              "Vistara Premium economy                 3\n",
              "Trujet                                  1\n",
              "Name: Airline, dtype: int64"
            ]
          },
          "metadata": {},
          "execution_count": 63
        }
      ]
    },
    {
      "cell_type": "code",
      "source": [
        "# Verificando as únicas \"ROTAS\"\n",
        "train_df[\"Route\"].unique()"
      ],
      "metadata": {
        "colab": {
          "base_uri": "https://localhost:8080/"
        },
        "id": "9c1PQrnUYro6",
        "outputId": "ab22dbf8-05fb-4171-919c-d5f3c5ea6cfc"
      },
      "execution_count": 64,
      "outputs": [
        {
          "output_type": "execute_result",
          "data": {
            "text/plain": [
              "array(['BLR → DEL', 'CCU → IXR → BBI → BLR', 'DEL → LKO → BOM → COK',\n",
              "       'CCU → NAG → BLR', 'BLR → NAG → DEL', 'CCU → BLR',\n",
              "       'BLR → BOM → DEL', 'DEL → BOM → COK', 'DEL → BLR → COK',\n",
              "       'MAA → CCU', 'CCU → BOM → BLR', 'DEL → AMD → BOM → COK',\n",
              "       'DEL → PNQ → COK', 'DEL → CCU → BOM → COK', 'BLR → COK → DEL',\n",
              "       'DEL → IDR → BOM → COK', 'DEL → LKO → COK',\n",
              "       'CCU → GAU → DEL → BLR', 'DEL → NAG → BOM → COK',\n",
              "       'CCU → MAA → BLR', 'DEL → HYD → COK', 'CCU → HYD → BLR',\n",
              "       'DEL → COK', 'CCU → DEL → BLR', 'BLR → BOM → AMD → DEL',\n",
              "       'BOM → DEL → HYD', 'DEL → MAA → COK', 'BOM → HYD',\n",
              "       'DEL → BHO → BOM → COK', 'DEL → JAI → BOM → COK',\n",
              "       'DEL → ATQ → BOM → COK', 'DEL → JDH → BOM → COK',\n",
              "       'CCU → BBI → BOM → BLR', 'BLR → MAA → DEL',\n",
              "       'DEL → GOI → BOM → COK', 'DEL → BDQ → BOM → COK',\n",
              "       'CCU → JAI → BOM → BLR', 'CCU → BBI → BLR', 'BLR → HYD → DEL',\n",
              "       'DEL → TRV → COK', 'CCU → IXR → DEL → BLR',\n",
              "       'DEL → IXU → BOM → COK', 'CCU → IXB → BLR',\n",
              "       'BLR → BOM → JDH → DEL', 'DEL → UDR → BOM → COK',\n",
              "       'DEL → HYD → MAA → COK', 'CCU → BOM → COK → BLR',\n",
              "       'BLR → CCU → DEL', 'CCU → BOM → GOI → BLR',\n",
              "       'DEL → RPR → NAG → BOM → COK', 'DEL → HYD → BOM → COK',\n",
              "       'CCU → DEL → AMD → BLR', 'CCU → PNQ → BLR',\n",
              "       'BLR → CCU → GAU → DEL', 'CCU → DEL → COK → BLR',\n",
              "       'BLR → PNQ → DEL', 'BOM → JDH → DEL → HYD',\n",
              "       'BLR → BOM → BHO → DEL', 'DEL → AMD → COK', 'BLR → LKO → DEL',\n",
              "       'CCU → GAU → BLR', 'BOM → GOI → HYD', 'CCU → BOM → AMD → BLR',\n",
              "       'CCU → BBI → IXR → DEL → BLR', 'DEL → DED → BOM → COK',\n",
              "       'DEL → MAA → BOM → COK', 'BLR → AMD → DEL', 'BLR → VGA → DEL',\n",
              "       'CCU → JAI → DEL → BLR', 'CCU → AMD → BLR',\n",
              "       'CCU → VNS → DEL → BLR', 'BLR → BOM → IDR → DEL',\n",
              "       'BLR → BBI → DEL', 'BLR → GOI → DEL', 'BOM → AMD → ISK → HYD',\n",
              "       'BOM → DED → DEL → HYD', 'DEL → IXC → BOM → COK',\n",
              "       'CCU → PAT → BLR', 'BLR → CCU → BBI → DEL',\n",
              "       'CCU → BBI → HYD → BLR', 'BLR → BOM → NAG → DEL',\n",
              "       'BLR → CCU → BBI → HYD → DEL', 'BLR → GAU → DEL',\n",
              "       'BOM → BHO → DEL → HYD', 'BOM → JLR → HYD',\n",
              "       'BLR → HYD → VGA → DEL', 'CCU → KNU → BLR',\n",
              "       'CCU → BOM → PNQ → BLR', 'DEL → BBI → COK',\n",
              "       'BLR → VGA → HYD → DEL', 'BOM → JDH → JAI → DEL → HYD',\n",
              "       'DEL → GWL → IDR → BOM → COK', 'CCU → RPR → HYD → BLR',\n",
              "       'CCU → VTZ → BLR', 'CCU → DEL → VGA → BLR',\n",
              "       'BLR → BOM → IDR → GWL → DEL', 'CCU → DEL → COK → TRV → BLR',\n",
              "       'BOM → COK → MAA → HYD', 'BOM → NDC → HYD', 'BLR → BDQ → DEL',\n",
              "       'CCU → BOM → TRV → BLR', 'CCU → BOM → HBX → BLR',\n",
              "       'BOM → BDQ → DEL → HYD', 'BOM → CCU → HYD',\n",
              "       'BLR → TRV → COK → DEL', 'BLR → IDR → DEL',\n",
              "       'CCU → IXZ → MAA → BLR', 'CCU → GAU → IMF → DEL → BLR',\n",
              "       'BOM → GOI → PNQ → HYD', 'BOM → BLR → CCU → BBI → HYD',\n",
              "       'BOM → MAA → HYD', 'BLR → BOM → UDR → DEL',\n",
              "       'BOM → UDR → DEL → HYD', 'BLR → VGA → VTZ → DEL',\n",
              "       'BLR → HBX → BOM → BHO → DEL', 'CCU → IXA → BLR',\n",
              "       'BOM → RPR → VTZ → HYD', 'BLR → HBX → BOM → AMD → DEL',\n",
              "       'BOM → IDR → DEL → HYD', 'BOM → BLR → HYD', 'BLR → STV → DEL',\n",
              "       'CCU → IXB → DEL → BLR', 'BOM → JAI → DEL → HYD',\n",
              "       'BOM → VNS → DEL → HYD', 'BLR → HBX → BOM → NAG → DEL',\n",
              "       'BLR → BOM → IXC → DEL', 'BLR → CCU → BBI → HYD → VGA → DEL',\n",
              "       'BOM → BBI → HYD'], dtype=object)"
            ]
          },
          "metadata": {},
          "execution_count": 64
        }
      ]
    },
    {
      "cell_type": "markdown",
      "source": [
        "#Atenção\n",
        "\n",
        "Geralmente, em competições de Machine Learning, são disponibilizados 2 datasets:\n",
        "\n",
        "**1** para vc treinar e testar a Máquina Preditiva\n",
        "\n",
        "**1** para vc usar depois que vc finalizar sua MP. \n",
        "\n",
        "Ou seja:\n",
        "\n",
        "\n",
        "Vc usa o dataset de teste para fazer as predições e submeter para o site de competição avaliar sua performance."
      ],
      "metadata": {
        "id": "oyE24K40ZB6H"
      }
    },
    {
      "cell_type": "code",
      "source": [
        "# Dataset de teste\n",
        "test_df = pd.read_excel (\"Test_set.xlsx\")\n",
        "test_df.head(10)"
      ],
      "metadata": {
        "id": "fKHBc4OPZC5C",
        "colab": {
          "base_uri": "https://localhost:8080/",
          "height": 362
        },
        "outputId": "df652855-0eb4-4c13-8a87-f7cb0680bb59"
      },
      "execution_count": 65,
      "outputs": [
        {
          "output_type": "execute_result",
          "data": {
            "text/plain": [
              "             Airline Date_of_Journey    Source Destination            Route  \\\n",
              "0        Jet Airways       6/06/2019     Delhi      Cochin  DEL → BOM → COK   \n",
              "1             IndiGo      12/05/2019   Kolkata    Banglore  CCU → MAA → BLR   \n",
              "2        Jet Airways      21/05/2019     Delhi      Cochin  DEL → BOM → COK   \n",
              "3  Multiple carriers      21/05/2019     Delhi      Cochin  DEL → BOM → COK   \n",
              "4           Air Asia      24/06/2019  Banglore       Delhi        BLR → DEL   \n",
              "5        Jet Airways      12/06/2019     Delhi      Cochin  DEL → BOM → COK   \n",
              "6          Air India      12/03/2019  Banglore   New Delhi  BLR → TRV → DEL   \n",
              "7             IndiGo       1/05/2019   Kolkata    Banglore  CCU → HYD → BLR   \n",
              "8             IndiGo      15/03/2019   Kolkata    Banglore        CCU → BLR   \n",
              "9        Jet Airways      18/05/2019   Kolkata    Banglore  CCU → BOM → BLR   \n",
              "\n",
              "  Dep_Time  Arrival_Time Duration Total_Stops              Additional_Info  \n",
              "0    17:30  04:25 07 Jun  10h 55m      1 stop                      No info  \n",
              "1    06:20         10:20       4h      1 stop                      No info  \n",
              "2    19:15  19:00 22 May  23h 45m      1 stop  In-flight meal not included  \n",
              "3    08:00         21:00      13h      1 stop                      No info  \n",
              "4    23:55  02:45 25 Jun   2h 50m    non-stop                      No info  \n",
              "5    18:15  12:35 13 Jun  18h 20m      1 stop  In-flight meal not included  \n",
              "6    07:30         22:35   15h 5m      1 stop                      No info  \n",
              "7    15:15         20:30   5h 15m      1 stop                      No info  \n",
              "8    10:10         12:55   2h 45m    non-stop                      No info  \n",
              "9    16:30         22:35    6h 5m      1 stop                      No info  "
            ],
            "text/html": [
              "\n",
              "  <div id=\"df-b6cee9a4-c59e-4e4f-a31e-9ec7e493925a\">\n",
              "    <div class=\"colab-df-container\">\n",
              "      <div>\n",
              "<style scoped>\n",
              "    .dataframe tbody tr th:only-of-type {\n",
              "        vertical-align: middle;\n",
              "    }\n",
              "\n",
              "    .dataframe tbody tr th {\n",
              "        vertical-align: top;\n",
              "    }\n",
              "\n",
              "    .dataframe thead th {\n",
              "        text-align: right;\n",
              "    }\n",
              "</style>\n",
              "<table border=\"1\" class=\"dataframe\">\n",
              "  <thead>\n",
              "    <tr style=\"text-align: right;\">\n",
              "      <th></th>\n",
              "      <th>Airline</th>\n",
              "      <th>Date_of_Journey</th>\n",
              "      <th>Source</th>\n",
              "      <th>Destination</th>\n",
              "      <th>Route</th>\n",
              "      <th>Dep_Time</th>\n",
              "      <th>Arrival_Time</th>\n",
              "      <th>Duration</th>\n",
              "      <th>Total_Stops</th>\n",
              "      <th>Additional_Info</th>\n",
              "    </tr>\n",
              "  </thead>\n",
              "  <tbody>\n",
              "    <tr>\n",
              "      <th>0</th>\n",
              "      <td>Jet Airways</td>\n",
              "      <td>6/06/2019</td>\n",
              "      <td>Delhi</td>\n",
              "      <td>Cochin</td>\n",
              "      <td>DEL → BOM → COK</td>\n",
              "      <td>17:30</td>\n",
              "      <td>04:25 07 Jun</td>\n",
              "      <td>10h 55m</td>\n",
              "      <td>1 stop</td>\n",
              "      <td>No info</td>\n",
              "    </tr>\n",
              "    <tr>\n",
              "      <th>1</th>\n",
              "      <td>IndiGo</td>\n",
              "      <td>12/05/2019</td>\n",
              "      <td>Kolkata</td>\n",
              "      <td>Banglore</td>\n",
              "      <td>CCU → MAA → BLR</td>\n",
              "      <td>06:20</td>\n",
              "      <td>10:20</td>\n",
              "      <td>4h</td>\n",
              "      <td>1 stop</td>\n",
              "      <td>No info</td>\n",
              "    </tr>\n",
              "    <tr>\n",
              "      <th>2</th>\n",
              "      <td>Jet Airways</td>\n",
              "      <td>21/05/2019</td>\n",
              "      <td>Delhi</td>\n",
              "      <td>Cochin</td>\n",
              "      <td>DEL → BOM → COK</td>\n",
              "      <td>19:15</td>\n",
              "      <td>19:00 22 May</td>\n",
              "      <td>23h 45m</td>\n",
              "      <td>1 stop</td>\n",
              "      <td>In-flight meal not included</td>\n",
              "    </tr>\n",
              "    <tr>\n",
              "      <th>3</th>\n",
              "      <td>Multiple carriers</td>\n",
              "      <td>21/05/2019</td>\n",
              "      <td>Delhi</td>\n",
              "      <td>Cochin</td>\n",
              "      <td>DEL → BOM → COK</td>\n",
              "      <td>08:00</td>\n",
              "      <td>21:00</td>\n",
              "      <td>13h</td>\n",
              "      <td>1 stop</td>\n",
              "      <td>No info</td>\n",
              "    </tr>\n",
              "    <tr>\n",
              "      <th>4</th>\n",
              "      <td>Air Asia</td>\n",
              "      <td>24/06/2019</td>\n",
              "      <td>Banglore</td>\n",
              "      <td>Delhi</td>\n",
              "      <td>BLR → DEL</td>\n",
              "      <td>23:55</td>\n",
              "      <td>02:45 25 Jun</td>\n",
              "      <td>2h 50m</td>\n",
              "      <td>non-stop</td>\n",
              "      <td>No info</td>\n",
              "    </tr>\n",
              "    <tr>\n",
              "      <th>5</th>\n",
              "      <td>Jet Airways</td>\n",
              "      <td>12/06/2019</td>\n",
              "      <td>Delhi</td>\n",
              "      <td>Cochin</td>\n",
              "      <td>DEL → BOM → COK</td>\n",
              "      <td>18:15</td>\n",
              "      <td>12:35 13 Jun</td>\n",
              "      <td>18h 20m</td>\n",
              "      <td>1 stop</td>\n",
              "      <td>In-flight meal not included</td>\n",
              "    </tr>\n",
              "    <tr>\n",
              "      <th>6</th>\n",
              "      <td>Air India</td>\n",
              "      <td>12/03/2019</td>\n",
              "      <td>Banglore</td>\n",
              "      <td>New Delhi</td>\n",
              "      <td>BLR → TRV → DEL</td>\n",
              "      <td>07:30</td>\n",
              "      <td>22:35</td>\n",
              "      <td>15h 5m</td>\n",
              "      <td>1 stop</td>\n",
              "      <td>No info</td>\n",
              "    </tr>\n",
              "    <tr>\n",
              "      <th>7</th>\n",
              "      <td>IndiGo</td>\n",
              "      <td>1/05/2019</td>\n",
              "      <td>Kolkata</td>\n",
              "      <td>Banglore</td>\n",
              "      <td>CCU → HYD → BLR</td>\n",
              "      <td>15:15</td>\n",
              "      <td>20:30</td>\n",
              "      <td>5h 15m</td>\n",
              "      <td>1 stop</td>\n",
              "      <td>No info</td>\n",
              "    </tr>\n",
              "    <tr>\n",
              "      <th>8</th>\n",
              "      <td>IndiGo</td>\n",
              "      <td>15/03/2019</td>\n",
              "      <td>Kolkata</td>\n",
              "      <td>Banglore</td>\n",
              "      <td>CCU → BLR</td>\n",
              "      <td>10:10</td>\n",
              "      <td>12:55</td>\n",
              "      <td>2h 45m</td>\n",
              "      <td>non-stop</td>\n",
              "      <td>No info</td>\n",
              "    </tr>\n",
              "    <tr>\n",
              "      <th>9</th>\n",
              "      <td>Jet Airways</td>\n",
              "      <td>18/05/2019</td>\n",
              "      <td>Kolkata</td>\n",
              "      <td>Banglore</td>\n",
              "      <td>CCU → BOM → BLR</td>\n",
              "      <td>16:30</td>\n",
              "      <td>22:35</td>\n",
              "      <td>6h 5m</td>\n",
              "      <td>1 stop</td>\n",
              "      <td>No info</td>\n",
              "    </tr>\n",
              "  </tbody>\n",
              "</table>\n",
              "</div>\n",
              "      <button class=\"colab-df-convert\" onclick=\"convertToInteractive('df-b6cee9a4-c59e-4e4f-a31e-9ec7e493925a')\"\n",
              "              title=\"Convert this dataframe to an interactive table.\"\n",
              "              style=\"display:none;\">\n",
              "        \n",
              "  <svg xmlns=\"http://www.w3.org/2000/svg\" height=\"24px\"viewBox=\"0 0 24 24\"\n",
              "       width=\"24px\">\n",
              "    <path d=\"M0 0h24v24H0V0z\" fill=\"none\"/>\n",
              "    <path d=\"M18.56 5.44l.94 2.06.94-2.06 2.06-.94-2.06-.94-.94-2.06-.94 2.06-2.06.94zm-11 1L8.5 8.5l.94-2.06 2.06-.94-2.06-.94L8.5 2.5l-.94 2.06-2.06.94zm10 10l.94 2.06.94-2.06 2.06-.94-2.06-.94-.94-2.06-.94 2.06-2.06.94z\"/><path d=\"M17.41 7.96l-1.37-1.37c-.4-.4-.92-.59-1.43-.59-.52 0-1.04.2-1.43.59L10.3 9.45l-7.72 7.72c-.78.78-.78 2.05 0 2.83L4 21.41c.39.39.9.59 1.41.59.51 0 1.02-.2 1.41-.59l7.78-7.78 2.81-2.81c.8-.78.8-2.07 0-2.86zM5.41 20L4 18.59l7.72-7.72 1.47 1.35L5.41 20z\"/>\n",
              "  </svg>\n",
              "      </button>\n",
              "      \n",
              "  <style>\n",
              "    .colab-df-container {\n",
              "      display:flex;\n",
              "      flex-wrap:wrap;\n",
              "      gap: 12px;\n",
              "    }\n",
              "\n",
              "    .colab-df-convert {\n",
              "      background-color: #E8F0FE;\n",
              "      border: none;\n",
              "      border-radius: 50%;\n",
              "      cursor: pointer;\n",
              "      display: none;\n",
              "      fill: #1967D2;\n",
              "      height: 32px;\n",
              "      padding: 0 0 0 0;\n",
              "      width: 32px;\n",
              "    }\n",
              "\n",
              "    .colab-df-convert:hover {\n",
              "      background-color: #E2EBFA;\n",
              "      box-shadow: 0px 1px 2px rgba(60, 64, 67, 0.3), 0px 1px 3px 1px rgba(60, 64, 67, 0.15);\n",
              "      fill: #174EA6;\n",
              "    }\n",
              "\n",
              "    [theme=dark] .colab-df-convert {\n",
              "      background-color: #3B4455;\n",
              "      fill: #D2E3FC;\n",
              "    }\n",
              "\n",
              "    [theme=dark] .colab-df-convert:hover {\n",
              "      background-color: #434B5C;\n",
              "      box-shadow: 0px 1px 3px 1px rgba(0, 0, 0, 0.15);\n",
              "      filter: drop-shadow(0px 1px 2px rgba(0, 0, 0, 0.3));\n",
              "      fill: #FFFFFF;\n",
              "    }\n",
              "  </style>\n",
              "\n",
              "      <script>\n",
              "        const buttonEl =\n",
              "          document.querySelector('#df-b6cee9a4-c59e-4e4f-a31e-9ec7e493925a button.colab-df-convert');\n",
              "        buttonEl.style.display =\n",
              "          google.colab.kernel.accessAllowed ? 'block' : 'none';\n",
              "\n",
              "        async function convertToInteractive(key) {\n",
              "          const element = document.querySelector('#df-b6cee9a4-c59e-4e4f-a31e-9ec7e493925a');\n",
              "          const dataTable =\n",
              "            await google.colab.kernel.invokeFunction('convertToInteractive',\n",
              "                                                     [key], {});\n",
              "          if (!dataTable) return;\n",
              "\n",
              "          const docLinkHtml = 'Like what you see? Visit the ' +\n",
              "            '<a target=\"_blank\" href=https://colab.research.google.com/notebooks/data_table.ipynb>data table notebook</a>'\n",
              "            + ' to learn more about interactive tables.';\n",
              "          element.innerHTML = '';\n",
              "          dataTable['output_type'] = 'display_data';\n",
              "          await google.colab.output.renderOutput(dataTable, element);\n",
              "          const docLink = document.createElement('div');\n",
              "          docLink.innerHTML = docLinkHtml;\n",
              "          element.appendChild(docLink);\n",
              "        }\n",
              "      </script>\n",
              "    </div>\n",
              "  </div>\n",
              "  "
            ]
          },
          "metadata": {},
          "execution_count": 65
        }
      ]
    },
    {
      "cell_type": "code",
      "source": [
        "# Estatística \n",
        "test_df.describe()"
      ],
      "metadata": {
        "colab": {
          "base_uri": "https://localhost:8080/",
          "height": 175
        },
        "id": "TqiJ-1ZQsib7",
        "outputId": "5fcb16ed-59ba-4270-ef37-0aa156c29696"
      },
      "execution_count": 66,
      "outputs": [
        {
          "output_type": "execute_result",
          "data": {
            "text/plain": [
              "            Airline Date_of_Journey Source Destination            Route  \\\n",
              "count          2671            2671   2671        2671             2671   \n",
              "unique           11              44      5           6              100   \n",
              "top     Jet Airways       9/05/2019  Delhi      Cochin  DEL → BOM → COK   \n",
              "freq            897             144   1145        1145              624   \n",
              "\n",
              "       Dep_Time Arrival_Time Duration Total_Stops Additional_Info  \n",
              "count      2671         2671     2671        2671            2671  \n",
              "unique      199          704      320           5               6  \n",
              "top       10:00        19:00   2h 50m      1 stop         No info  \n",
              "freq         62          113      122        1431            2148  "
            ],
            "text/html": [
              "\n",
              "  <div id=\"df-30e59c7c-2b06-456e-bfff-895f257f8f98\">\n",
              "    <div class=\"colab-df-container\">\n",
              "      <div>\n",
              "<style scoped>\n",
              "    .dataframe tbody tr th:only-of-type {\n",
              "        vertical-align: middle;\n",
              "    }\n",
              "\n",
              "    .dataframe tbody tr th {\n",
              "        vertical-align: top;\n",
              "    }\n",
              "\n",
              "    .dataframe thead th {\n",
              "        text-align: right;\n",
              "    }\n",
              "</style>\n",
              "<table border=\"1\" class=\"dataframe\">\n",
              "  <thead>\n",
              "    <tr style=\"text-align: right;\">\n",
              "      <th></th>\n",
              "      <th>Airline</th>\n",
              "      <th>Date_of_Journey</th>\n",
              "      <th>Source</th>\n",
              "      <th>Destination</th>\n",
              "      <th>Route</th>\n",
              "      <th>Dep_Time</th>\n",
              "      <th>Arrival_Time</th>\n",
              "      <th>Duration</th>\n",
              "      <th>Total_Stops</th>\n",
              "      <th>Additional_Info</th>\n",
              "    </tr>\n",
              "  </thead>\n",
              "  <tbody>\n",
              "    <tr>\n",
              "      <th>count</th>\n",
              "      <td>2671</td>\n",
              "      <td>2671</td>\n",
              "      <td>2671</td>\n",
              "      <td>2671</td>\n",
              "      <td>2671</td>\n",
              "      <td>2671</td>\n",
              "      <td>2671</td>\n",
              "      <td>2671</td>\n",
              "      <td>2671</td>\n",
              "      <td>2671</td>\n",
              "    </tr>\n",
              "    <tr>\n",
              "      <th>unique</th>\n",
              "      <td>11</td>\n",
              "      <td>44</td>\n",
              "      <td>5</td>\n",
              "      <td>6</td>\n",
              "      <td>100</td>\n",
              "      <td>199</td>\n",
              "      <td>704</td>\n",
              "      <td>320</td>\n",
              "      <td>5</td>\n",
              "      <td>6</td>\n",
              "    </tr>\n",
              "    <tr>\n",
              "      <th>top</th>\n",
              "      <td>Jet Airways</td>\n",
              "      <td>9/05/2019</td>\n",
              "      <td>Delhi</td>\n",
              "      <td>Cochin</td>\n",
              "      <td>DEL → BOM → COK</td>\n",
              "      <td>10:00</td>\n",
              "      <td>19:00</td>\n",
              "      <td>2h 50m</td>\n",
              "      <td>1 stop</td>\n",
              "      <td>No info</td>\n",
              "    </tr>\n",
              "    <tr>\n",
              "      <th>freq</th>\n",
              "      <td>897</td>\n",
              "      <td>144</td>\n",
              "      <td>1145</td>\n",
              "      <td>1145</td>\n",
              "      <td>624</td>\n",
              "      <td>62</td>\n",
              "      <td>113</td>\n",
              "      <td>122</td>\n",
              "      <td>1431</td>\n",
              "      <td>2148</td>\n",
              "    </tr>\n",
              "  </tbody>\n",
              "</table>\n",
              "</div>\n",
              "      <button class=\"colab-df-convert\" onclick=\"convertToInteractive('df-30e59c7c-2b06-456e-bfff-895f257f8f98')\"\n",
              "              title=\"Convert this dataframe to an interactive table.\"\n",
              "              style=\"display:none;\">\n",
              "        \n",
              "  <svg xmlns=\"http://www.w3.org/2000/svg\" height=\"24px\"viewBox=\"0 0 24 24\"\n",
              "       width=\"24px\">\n",
              "    <path d=\"M0 0h24v24H0V0z\" fill=\"none\"/>\n",
              "    <path d=\"M18.56 5.44l.94 2.06.94-2.06 2.06-.94-2.06-.94-.94-2.06-.94 2.06-2.06.94zm-11 1L8.5 8.5l.94-2.06 2.06-.94-2.06-.94L8.5 2.5l-.94 2.06-2.06.94zm10 10l.94 2.06.94-2.06 2.06-.94-2.06-.94-.94-2.06-.94 2.06-2.06.94z\"/><path d=\"M17.41 7.96l-1.37-1.37c-.4-.4-.92-.59-1.43-.59-.52 0-1.04.2-1.43.59L10.3 9.45l-7.72 7.72c-.78.78-.78 2.05 0 2.83L4 21.41c.39.39.9.59 1.41.59.51 0 1.02-.2 1.41-.59l7.78-7.78 2.81-2.81c.8-.78.8-2.07 0-2.86zM5.41 20L4 18.59l7.72-7.72 1.47 1.35L5.41 20z\"/>\n",
              "  </svg>\n",
              "      </button>\n",
              "      \n",
              "  <style>\n",
              "    .colab-df-container {\n",
              "      display:flex;\n",
              "      flex-wrap:wrap;\n",
              "      gap: 12px;\n",
              "    }\n",
              "\n",
              "    .colab-df-convert {\n",
              "      background-color: #E8F0FE;\n",
              "      border: none;\n",
              "      border-radius: 50%;\n",
              "      cursor: pointer;\n",
              "      display: none;\n",
              "      fill: #1967D2;\n",
              "      height: 32px;\n",
              "      padding: 0 0 0 0;\n",
              "      width: 32px;\n",
              "    }\n",
              "\n",
              "    .colab-df-convert:hover {\n",
              "      background-color: #E2EBFA;\n",
              "      box-shadow: 0px 1px 2px rgba(60, 64, 67, 0.3), 0px 1px 3px 1px rgba(60, 64, 67, 0.15);\n",
              "      fill: #174EA6;\n",
              "    }\n",
              "\n",
              "    [theme=dark] .colab-df-convert {\n",
              "      background-color: #3B4455;\n",
              "      fill: #D2E3FC;\n",
              "    }\n",
              "\n",
              "    [theme=dark] .colab-df-convert:hover {\n",
              "      background-color: #434B5C;\n",
              "      box-shadow: 0px 1px 3px 1px rgba(0, 0, 0, 0.15);\n",
              "      filter: drop-shadow(0px 1px 2px rgba(0, 0, 0, 0.3));\n",
              "      fill: #FFFFFF;\n",
              "    }\n",
              "  </style>\n",
              "\n",
              "      <script>\n",
              "        const buttonEl =\n",
              "          document.querySelector('#df-30e59c7c-2b06-456e-bfff-895f257f8f98 button.colab-df-convert');\n",
              "        buttonEl.style.display =\n",
              "          google.colab.kernel.accessAllowed ? 'block' : 'none';\n",
              "\n",
              "        async function convertToInteractive(key) {\n",
              "          const element = document.querySelector('#df-30e59c7c-2b06-456e-bfff-895f257f8f98');\n",
              "          const dataTable =\n",
              "            await google.colab.kernel.invokeFunction('convertToInteractive',\n",
              "                                                     [key], {});\n",
              "          if (!dataTable) return;\n",
              "\n",
              "          const docLinkHtml = 'Like what you see? Visit the ' +\n",
              "            '<a target=\"_blank\" href=https://colab.research.google.com/notebooks/data_table.ipynb>data table notebook</a>'\n",
              "            + ' to learn more about interactive tables.';\n",
              "          element.innerHTML = '';\n",
              "          dataTable['output_type'] = 'display_data';\n",
              "          await google.colab.output.renderOutput(dataTable, element);\n",
              "          const docLink = document.createElement('div');\n",
              "          docLink.innerHTML = docLinkHtml;\n",
              "          element.appendChild(docLink);\n",
              "        }\n",
              "      </script>\n",
              "    </div>\n",
              "  </div>\n",
              "  "
            ]
          },
          "metadata": {},
          "execution_count": 66
        }
      ]
    },
    {
      "cell_type": "code",
      "source": [
        "# Informações adicionais do dataset\n",
        "test_df.info()"
      ],
      "metadata": {
        "colab": {
          "base_uri": "https://localhost:8080/"
        },
        "id": "KxS9uyXisYdy",
        "outputId": "b8ddcfcf-4e65-4701-89e2-a3eb318fb211"
      },
      "execution_count": 67,
      "outputs": [
        {
          "output_type": "stream",
          "name": "stdout",
          "text": [
            "<class 'pandas.core.frame.DataFrame'>\n",
            "RangeIndex: 2671 entries, 0 to 2670\n",
            "Data columns (total 10 columns):\n",
            " #   Column           Non-Null Count  Dtype \n",
            "---  ------           --------------  ----- \n",
            " 0   Airline          2671 non-null   object\n",
            " 1   Date_of_Journey  2671 non-null   object\n",
            " 2   Source           2671 non-null   object\n",
            " 3   Destination      2671 non-null   object\n",
            " 4   Route            2671 non-null   object\n",
            " 5   Dep_Time         2671 non-null   object\n",
            " 6   Arrival_Time     2671 non-null   object\n",
            " 7   Duration         2671 non-null   object\n",
            " 8   Total_Stops      2671 non-null   object\n",
            " 9   Additional_Info  2671 non-null   object\n",
            "dtypes: object(10)\n",
            "memory usage: 208.8+ KB\n"
          ]
        }
      ]
    },
    {
      "cell_type": "code",
      "source": [
        "# Plotting Price x Airline\n",
        "sns.catplot(y = \"Price\", x = \"Airline\", data = train_df.sort_values (\"Price\", ascending = False), kind = \"boxen\", height = 8, aspect = 3)\n",
        "plt.show ()"
      ],
      "metadata": {
        "colab": {
          "base_uri": "https://localhost:8080/",
          "height": 541
        },
        "id": "dSeBj_LXtELu",
        "outputId": "09ff7318-8655-46d9-93e3-37fec1c3a73a"
      },
      "execution_count": 68,
      "outputs": [
        {
          "output_type": "display_data",
          "data": {
            "text/plain": [
              "<Figure size 1728x576 with 1 Axes>"
            ],
            "image/png": "[encoded data removed]"
          },
          "metadata": {
            "needs_background": "light"
          }
        }
      ]
    },
    {
      "cell_type": "code",
      "source": [
        "# Potting Violin plot for vs Source\n",
        "sns.catplot(y = \"Price\", x = \"Source\", data = train_df.sort_values (\"Price\", ascending = False), kind = \"boxen\", height = 4, aspect = 3)\n",
        "plt.show()"
      ],
      "metadata": {
        "id": "0T6z-lzTvCJU",
        "colab": {
          "base_uri": "https://localhost:8080/",
          "height": 297
        },
        "outputId": "2efeffe1-9230-4685-fc01-6905bad2b7f4"
      },
      "execution_count": 69,
      "outputs": [
        {
          "output_type": "display_data",
          "data": {
            "text/plain": [
              "<Figure size 864x288 with 1 Axes>"
            ],
            "image/png": "[encoded data removed]"
          },
          "metadata": {
            "needs_background": "light"
          }
        }
      ]
    },
    {
      "cell_type": "code",
      "source": [
        "# Plotting Box plot for Price vs Destination\n",
        "sns.catplot(y = \"Price\", x = \"Destination\", data = train_df.sort_values (\"Price\", ascending = False), kind = \"boxen\", height = 4 , aspect = 3 )\n",
        "plt.show()"
      ],
      "metadata": {
        "colab": {
          "base_uri": "https://localhost:8080/",
          "height": 297
        },
        "id": "lO9K5DCowHJ4",
        "outputId": "1cc4cfa1-8364-49c6-bba8-d401f3d10fb8"
      },
      "execution_count": 70,
      "outputs": [
        {
          "output_type": "display_data",
          "data": {
            "text/plain": [
              "<Figure size 864x288 with 1 Axes>"
            ],
            "image/png": "[encoded data removed]"
          },
          "metadata": {
            "needs_background": "light"
          }
        }
      ]
    },
    {
      "cell_type": "markdown",
      "source": [
        "# <font color=WHITE>3° Processamento dos Dados\n",
        "\n",
        "![](https://super.abril.com.br/wp-content/uploads/2017/08/como-o-aquecimento-global-estc3a1-atrapalhando-a-aviac3a7c3a3o-civil.png)"
      ],
      "metadata": {
        "id": "hzbKOjdhxOmW"
      }
    },
    {
      "cell_type": "code",
      "source": [
        "train_df.head(3)"
      ],
      "metadata": {
        "colab": {
          "base_uri": "https://localhost:8080/",
          "height": 143
        },
        "id": "VwKoQGy7xpyw",
        "outputId": "9d8a74b6-4795-4c82-81f6-8347a2f19e5b"
      },
      "execution_count": 71,
      "outputs": [
        {
          "output_type": "execute_result",
          "data": {
            "text/plain": [
              "       Airline Date_of_Journey    Source Destination                  Route  \\\n",
              "0       IndiGo      24/03/2019  Banglore   New Delhi              BLR → DEL   \n",
              "1    Air India       1/05/2019   Kolkata    Banglore  CCU → IXR → BBI → BLR   \n",
              "2  Jet Airways       9/06/2019     Delhi      Cochin  DEL → LKO → BOM → COK   \n",
              "\n",
              "  Dep_Time  Arrival_Time Duration Total_Stops Additional_Info  Price  \n",
              "0    22:20  01:10 22 Mar   2h 50m    non-stop         No info   3897  \n",
              "1    05:50         13:15   7h 25m     2 stops         No info   7662  \n",
              "2    09:25  04:25 10 Jun      19h     2 stops         No info  13882  "
            ],
            "text/html": [
              "\n",
              "  <div id=\"df-5a2999f9-579b-4d00-b310-db964212b0e1\">\n",
              "    <div class=\"colab-df-container\">\n",
              "      <div>\n",
              "<style scoped>\n",
              "    .dataframe tbody tr th:only-of-type {\n",
              "        vertical-align: middle;\n",
              "    }\n",
              "\n",
              "    .dataframe tbody tr th {\n",
              "        vertical-align: top;\n",
              "    }\n",
              "\n",
              "    .dataframe thead th {\n",
              "        text-align: right;\n",
              "    }\n",
              "</style>\n",
              "<table border=\"1\" class=\"dataframe\">\n",
              "  <thead>\n",
              "    <tr style=\"text-align: right;\">\n",
              "      <th></th>\n",
              "      <th>Airline</th>\n",
              "      <th>Date_of_Journey</th>\n",
              "      <th>Source</th>\n",
              "      <th>Destination</th>\n",
              "      <th>Route</th>\n",
              "      <th>Dep_Time</th>\n",
              "      <th>Arrival_Time</th>\n",
              "      <th>Duration</th>\n",
              "      <th>Total_Stops</th>\n",
              "      <th>Additional_Info</th>\n",
              "      <th>Price</th>\n",
              "    </tr>\n",
              "  </thead>\n",
              "  <tbody>\n",
              "    <tr>\n",
              "      <th>0</th>\n",
              "      <td>IndiGo</td>\n",
              "      <td>24/03/2019</td>\n",
              "      <td>Banglore</td>\n",
              "      <td>New Delhi</td>\n",
              "      <td>BLR → DEL</td>\n",
              "      <td>22:20</td>\n",
              "      <td>01:10 22 Mar</td>\n",
              "      <td>2h 50m</td>\n",
              "      <td>non-stop</td>\n",
              "      <td>No info</td>\n",
              "      <td>3897</td>\n",
              "    </tr>\n",
              "    <tr>\n",
              "      <th>1</th>\n",
              "      <td>Air India</td>\n",
              "      <td>1/05/2019</td>\n",
              "      <td>Kolkata</td>\n",
              "      <td>Banglore</td>\n",
              "      <td>CCU → IXR → BBI → BLR</td>\n",
              "      <td>05:50</td>\n",
              "      <td>13:15</td>\n",
              "      <td>7h 25m</td>\n",
              "      <td>2 stops</td>\n",
              "      <td>No info</td>\n",
              "      <td>7662</td>\n",
              "    </tr>\n",
              "    <tr>\n",
              "      <th>2</th>\n",
              "      <td>Jet Airways</td>\n",
              "      <td>9/06/2019</td>\n",
              "      <td>Delhi</td>\n",
              "      <td>Cochin</td>\n",
              "      <td>DEL → LKO → BOM → COK</td>\n",
              "      <td>09:25</td>\n",
              "      <td>04:25 10 Jun</td>\n",
              "      <td>19h</td>\n",
              "      <td>2 stops</td>\n",
              "      <td>No info</td>\n",
              "      <td>13882</td>\n",
              "    </tr>\n",
              "  </tbody>\n",
              "</table>\n",
              "</div>\n",
              "      <button class=\"colab-df-convert\" onclick=\"convertToInteractive('df-5a2999f9-579b-4d00-b310-db964212b0e1')\"\n",
              "              title=\"Convert this dataframe to an interactive table.\"\n",
              "              style=\"display:none;\">\n",
              "        \n",
              "  <svg xmlns=\"http://www.w3.org/2000/svg\" height=\"24px\"viewBox=\"0 0 24 24\"\n",
              "       width=\"24px\">\n",
              "    <path d=\"M0 0h24v24H0V0z\" fill=\"none\"/>\n",
              "    <path d=\"M18.56 5.44l.94 2.06.94-2.06 2.06-.94-2.06-.94-.94-2.06-.94 2.06-2.06.94zm-11 1L8.5 8.5l.94-2.06 2.06-.94-2.06-.94L8.5 2.5l-.94 2.06-2.06.94zm10 10l.94 2.06.94-2.06 2.06-.94-2.06-.94-.94-2.06-.94 2.06-2.06.94z\"/><path d=\"M17.41 7.96l-1.37-1.37c-.4-.4-.92-.59-1.43-.59-.52 0-1.04.2-1.43.59L10.3 9.45l-7.72 7.72c-.78.78-.78 2.05 0 2.83L4 21.41c.39.39.9.59 1.41.59.51 0 1.02-.2 1.41-.59l7.78-7.78 2.81-2.81c.8-.78.8-2.07 0-2.86zM5.41 20L4 18.59l7.72-7.72 1.47 1.35L5.41 20z\"/>\n",
              "  </svg>\n",
              "      </button>\n",
              "      \n",
              "  <style>\n",
              "    .colab-df-container {\n",
              "      display:flex;\n",
              "      flex-wrap:wrap;\n",
              "      gap: 12px;\n",
              "    }\n",
              "\n",
              "    .colab-df-convert {\n",
              "      background-color: #E8F0FE;\n",
              "      border: none;\n",
              "      border-radius: 50%;\n",
              "      cursor: pointer;\n",
              "      display: none;\n",
              "      fill: #1967D2;\n",
              "      height: 32px;\n",
              "      padding: 0 0 0 0;\n",
              "      width: 32px;\n",
              "    }\n",
              "\n",
              "    .colab-df-convert:hover {\n",
              "      background-color: #E2EBFA;\n",
              "      box-shadow: 0px 1px 2px rgba(60, 64, 67, 0.3), 0px 1px 3px 1px rgba(60, 64, 67, 0.15);\n",
              "      fill: #174EA6;\n",
              "    }\n",
              "\n",
              "    [theme=dark] .colab-df-convert {\n",
              "      background-color: #3B4455;\n",
              "      fill: #D2E3FC;\n",
              "    }\n",
              "\n",
              "    [theme=dark] .colab-df-convert:hover {\n",
              "      background-color: #434B5C;\n",
              "      box-shadow: 0px 1px 3px 1px rgba(0, 0, 0, 0.15);\n",
              "      filter: drop-shadow(0px 1px 2px rgba(0, 0, 0, 0.3));\n",
              "      fill: #FFFFFF;\n",
              "    }\n",
              "  </style>\n",
              "\n",
              "      <script>\n",
              "        const buttonEl =\n",
              "          document.querySelector('#df-5a2999f9-579b-4d00-b310-db964212b0e1 button.colab-df-convert');\n",
              "        buttonEl.style.display =\n",
              "          google.colab.kernel.accessAllowed ? 'block' : 'none';\n",
              "\n",
              "        async function convertToInteractive(key) {\n",
              "          const element = document.querySelector('#df-5a2999f9-579b-4d00-b310-db964212b0e1');\n",
              "          const dataTable =\n",
              "            await google.colab.kernel.invokeFunction('convertToInteractive',\n",
              "                                                     [key], {});\n",
              "          if (!dataTable) return;\n",
              "\n",
              "          const docLinkHtml = 'Like what you see? Visit the ' +\n",
              "            '<a target=\"_blank\" href=https://colab.research.google.com/notebooks/data_table.ipynb>data table notebook</a>'\n",
              "            + ' to learn more about interactive tables.';\n",
              "          element.innerHTML = '';\n",
              "          dataTable['output_type'] = 'display_data';\n",
              "          await google.colab.output.renderOutput(dataTable, element);\n",
              "          const docLink = document.createElement('div');\n",
              "          docLink.innerHTML = docLinkHtml;\n",
              "          element.appendChild(docLink);\n",
              "        }\n",
              "      </script>\n",
              "    </div>\n",
              "  </div>\n",
              "  "
            ]
          },
          "metadata": {},
          "execution_count": 71
        }
      ]
    },
    {
      "cell_type": "code",
      "source": [
        "# Convertendo a variável Duration em horas e minutos\n",
        "\n",
        "train_df['Duration'] = train_df['Duration'].astype(str).str.replace(\"h\", '*60').astype(str).str.replace(' ','+').astype(str).str.replace('m','*1').apply(eval)\n",
        "test_df['Duration'] = test_df['Duration'].astype(str).str.replace(\"h\", '*60').astype(str).str.replace(' ','+').astype(str).str.replace('m','*1').apply(eval)"
      ],
      "metadata": {
        "id": "KdgrhHiV23pE"
      },
      "execution_count": 72,
      "outputs": []
    },
    {
      "cell_type": "code",
      "source": [
        "test_df.head(1)"
      ],
      "metadata": {
        "colab": {
          "base_uri": "https://localhost:8080/",
          "height": 81
        },
        "id": "ycPI5MNE7yZ4",
        "outputId": "cf38034a-3511-42c0-e3f1-6db83b96dcfc"
      },
      "execution_count": 73,
      "outputs": [
        {
          "output_type": "execute_result",
          "data": {
            "text/plain": [
              "       Airline Date_of_Journey Source Destination            Route Dep_Time  \\\n",
              "0  Jet Airways       6/06/2019  Delhi      Cochin  DEL → BOM → COK    17:30   \n",
              "\n",
              "   Arrival_Time  Duration Total_Stops Additional_Info  \n",
              "0  04:25 07 Jun       655      1 stop         No info  "
            ],
            "text/html": [
              "\n",
              "  <div id=\"df-e26523ac-e338-4f10-9169-928be9927219\">\n",
              "    <div class=\"colab-df-container\">\n",
              "      <div>\n",
              "<style scoped>\n",
              "    .dataframe tbody tr th:only-of-type {\n",
              "        vertical-align: middle;\n",
              "    }\n",
              "\n",
              "    .dataframe tbody tr th {\n",
              "        vertical-align: top;\n",
              "    }\n",
              "\n",
              "    .dataframe thead th {\n",
              "        text-align: right;\n",
              "    }\n",
              "</style>\n",
              "<table border=\"1\" class=\"dataframe\">\n",
              "  <thead>\n",
              "    <tr style=\"text-align: right;\">\n",
              "      <th></th>\n",
              "      <th>Airline</th>\n",
              "      <th>Date_of_Journey</th>\n",
              "      <th>Source</th>\n",
              "      <th>Destination</th>\n",
              "      <th>Route</th>\n",
              "      <th>Dep_Time</th>\n",
              "      <th>Arrival_Time</th>\n",
              "      <th>Duration</th>\n",
              "      <th>Total_Stops</th>\n",
              "      <th>Additional_Info</th>\n",
              "    </tr>\n",
              "  </thead>\n",
              "  <tbody>\n",
              "    <tr>\n",
              "      <th>0</th>\n",
              "      <td>Jet Airways</td>\n",
              "      <td>6/06/2019</td>\n",
              "      <td>Delhi</td>\n",
              "      <td>Cochin</td>\n",
              "      <td>DEL → BOM → COK</td>\n",
              "      <td>17:30</td>\n",
              "      <td>04:25 07 Jun</td>\n",
              "      <td>655</td>\n",
              "      <td>1 stop</td>\n",
              "      <td>No info</td>\n",
              "    </tr>\n",
              "  </tbody>\n",
              "</table>\n",
              "</div>\n",
              "      <button class=\"colab-df-convert\" onclick=\"convertToInteractive('df-e26523ac-e338-4f10-9169-928be9927219')\"\n",
              "              title=\"Convert this dataframe to an interactive table.\"\n",
              "              style=\"display:none;\">\n",
              "        \n",
              "  <svg xmlns=\"http://www.w3.org/2000/svg\" height=\"24px\"viewBox=\"0 0 24 24\"\n",
              "       width=\"24px\">\n",
              "    <path d=\"M0 0h24v24H0V0z\" fill=\"none\"/>\n",
              "    <path d=\"M18.56 5.44l.94 2.06.94-2.06 2.06-.94-2.06-.94-.94-2.06-.94 2.06-2.06.94zm-11 1L8.5 8.5l.94-2.06 2.06-.94-2.06-.94L8.5 2.5l-.94 2.06-2.06.94zm10 10l.94 2.06.94-2.06 2.06-.94-2.06-.94-.94-2.06-.94 2.06-2.06.94z\"/><path d=\"M17.41 7.96l-1.37-1.37c-.4-.4-.92-.59-1.43-.59-.52 0-1.04.2-1.43.59L10.3 9.45l-7.72 7.72c-.78.78-.78 2.05 0 2.83L4 21.41c.39.39.9.59 1.41.59.51 0 1.02-.2 1.41-.59l7.78-7.78 2.81-2.81c.8-.78.8-2.07 0-2.86zM5.41 20L4 18.59l7.72-7.72 1.47 1.35L5.41 20z\"/>\n",
              "  </svg>\n",
              "      </button>\n",
              "      \n",
              "  <style>\n",
              "    .colab-df-container {\n",
              "      display:flex;\n",
              "      flex-wrap:wrap;\n",
              "      gap: 12px;\n",
              "    }\n",
              "\n",
              "    .colab-df-convert {\n",
              "      background-color: #E8F0FE;\n",
              "      border: none;\n",
              "      border-radius: 50%;\n",
              "      cursor: pointer;\n",
              "      display: none;\n",
              "      fill: #1967D2;\n",
              "      height: 32px;\n",
              "      padding: 0 0 0 0;\n",
              "      width: 32px;\n",
              "    }\n",
              "\n",
              "    .colab-df-convert:hover {\n",
              "      background-color: #E2EBFA;\n",
              "      box-shadow: 0px 1px 2px rgba(60, 64, 67, 0.3), 0px 1px 3px 1px rgba(60, 64, 67, 0.15);\n",
              "      fill: #174EA6;\n",
              "    }\n",
              "\n",
              "    [theme=dark] .colab-df-convert {\n",
              "      background-color: #3B4455;\n",
              "      fill: #D2E3FC;\n",
              "    }\n",
              "\n",
              "    [theme=dark] .colab-df-convert:hover {\n",
              "      background-color: #434B5C;\n",
              "      box-shadow: 0px 1px 3px 1px rgba(0, 0, 0, 0.15);\n",
              "      filter: drop-shadow(0px 1px 2px rgba(0, 0, 0, 0.3));\n",
              "      fill: #FFFFFF;\n",
              "    }\n",
              "  </style>\n",
              "\n",
              "      <script>\n",
              "        const buttonEl =\n",
              "          document.querySelector('#df-e26523ac-e338-4f10-9169-928be9927219 button.colab-df-convert');\n",
              "        buttonEl.style.display =\n",
              "          google.colab.kernel.accessAllowed ? 'block' : 'none';\n",
              "\n",
              "        async function convertToInteractive(key) {\n",
              "          const element = document.querySelector('#df-e26523ac-e338-4f10-9169-928be9927219');\n",
              "          const dataTable =\n",
              "            await google.colab.kernel.invokeFunction('convertToInteractive',\n",
              "                                                     [key], {});\n",
              "          if (!dataTable) return;\n",
              "\n",
              "          const docLinkHtml = 'Like what you see? Visit the ' +\n",
              "            '<a target=\"_blank\" href=https://colab.research.google.com/notebooks/data_table.ipynb>data table notebook</a>'\n",
              "            + ' to learn more about interactive tables.';\n",
              "          element.innerHTML = '';\n",
              "          dataTable['output_type'] = 'display_data';\n",
              "          await google.colab.output.renderOutput(dataTable, element);\n",
              "          const docLink = document.createElement('div');\n",
              "          docLink.innerHTML = docLinkHtml;\n",
              "          element.appendChild(docLink);\n",
              "        }\n",
              "      </script>\n",
              "    </div>\n",
              "  </div>\n",
              "  "
            ]
          },
          "metadata": {},
          "execution_count": 73
        }
      ]
    },
    {
      "cell_type": "code",
      "source": [
        "# Date_of_Journey\n",
        "\n",
        "train_df[\"Journey_day\"] = train_df['Date_of_Journey'].str.split('/').str[0].astype(int)\n",
        "train_df[\"Journey_month\"] = train_df['Date_of_Journey'].str.split('/').str[1].astype(int)\n",
        "train_df.drop([\"Date_of_Journey\"], axis = 1, inplace = True)\n",
        "\n"
      ],
      "metadata": {
        "id": "2KLr1Wo8BlGp"
      },
      "execution_count": 74,
      "outputs": []
    },
    {
      "cell_type": "code",
      "source": [
        "# Dep_Time\n",
        "\n",
        "train_df[\"Dep_hour\"] = pd.to_datetime(train_df[\"Dep_Time\"]).dt.hour\n",
        "train_df[\"Dep_min\"] = pd.to_datetime(train_df[\"Dep_Time\"]).dt.minute\n",
        "train_df.drop([\"Dep_Time\"], axis = 1, inplace = True)"
      ],
      "metadata": {
        "id": "8p7rdSBbC17m"
      },
      "execution_count": 75,
      "outputs": []
    },
    {
      "cell_type": "code",
      "source": [
        "# Arrival_Time\n",
        "\n",
        "train_df[\"Arrival_hour\"] = pd.to_datetime(train_df[\"Arrival_Time\"]).dt.hour\n",
        "train_df[\"Arrival_min\"] = pd.to_datetime(train_df[\"Arrival_Time\"]).dt.minute\n",
        "train_df.drop([\"Arrival_Time\"], axis = 1, inplace = True)"
      ],
      "metadata": {
        "id": "DZCEZB6VEdw_"
      },
      "execution_count": 76,
      "outputs": []
    },
    {
      "cell_type": "code",
      "source": [
        "train_df.head(1)"
      ],
      "metadata": {
        "colab": {
          "base_uri": "https://localhost:8080/",
          "height": 81
        },
        "id": "q9Jjenb3FdYv",
        "outputId": "f91ad5f5-f038-45a9-9c03-f500d4e0f598"
      },
      "execution_count": 77,
      "outputs": [
        {
          "output_type": "execute_result",
          "data": {
            "text/plain": [
              "  Airline    Source Destination      Route  Duration Total_Stops  \\\n",
              "0  IndiGo  Banglore   New Delhi  BLR → DEL       170    non-stop   \n",
              "\n",
              "  Additional_Info  Price  Journey_day  Journey_month  Dep_hour  Dep_min  \\\n",
              "0         No info   3897           24              3        22       20   \n",
              "\n",
              "   Arrival_hour  Arrival_min  \n",
              "0             1           10  "
            ],
            "text/html": [
              "\n",
              "  <div id=\"df-9636b614-7018-4eae-a9aa-4ae3f688605c\">\n",
              "    <div class=\"colab-df-container\">\n",
              "      <div>\n",
              "<style scoped>\n",
              "    .dataframe tbody tr th:only-of-type {\n",
              "        vertical-align: middle;\n",
              "    }\n",
              "\n",
              "    .dataframe tbody tr th {\n",
              "        vertical-align: top;\n",
              "    }\n",
              "\n",
              "    .dataframe thead th {\n",
              "        text-align: right;\n",
              "    }\n",
              "</style>\n",
              "<table border=\"1\" class=\"dataframe\">\n",
              "  <thead>\n",
              "    <tr style=\"text-align: right;\">\n",
              "      <th></th>\n",
              "      <th>Airline</th>\n",
              "      <th>Source</th>\n",
              "      <th>Destination</th>\n",
              "      <th>Route</th>\n",
              "      <th>Duration</th>\n",
              "      <th>Total_Stops</th>\n",
              "      <th>Additional_Info</th>\n",
              "      <th>Price</th>\n",
              "      <th>Journey_day</th>\n",
              "      <th>Journey_month</th>\n",
              "      <th>Dep_hour</th>\n",
              "      <th>Dep_min</th>\n",
              "      <th>Arrival_hour</th>\n",
              "      <th>Arrival_min</th>\n",
              "    </tr>\n",
              "  </thead>\n",
              "  <tbody>\n",
              "    <tr>\n",
              "      <th>0</th>\n",
              "      <td>IndiGo</td>\n",
              "      <td>Banglore</td>\n",
              "      <td>New Delhi</td>\n",
              "      <td>BLR → DEL</td>\n",
              "      <td>170</td>\n",
              "      <td>non-stop</td>\n",
              "      <td>No info</td>\n",
              "      <td>3897</td>\n",
              "      <td>24</td>\n",
              "      <td>3</td>\n",
              "      <td>22</td>\n",
              "      <td>20</td>\n",
              "      <td>1</td>\n",
              "      <td>10</td>\n",
              "    </tr>\n",
              "  </tbody>\n",
              "</table>\n",
              "</div>\n",
              "      <button class=\"colab-df-convert\" onclick=\"convertToInteractive('df-9636b614-7018-4eae-a9aa-4ae3f688605c')\"\n",
              "              title=\"Convert this dataframe to an interactive table.\"\n",
              "              style=\"display:none;\">\n",
              "        \n",
              "  <svg xmlns=\"http://www.w3.org/2000/svg\" height=\"24px\"viewBox=\"0 0 24 24\"\n",
              "       width=\"24px\">\n",
              "    <path d=\"M0 0h24v24H0V0z\" fill=\"none\"/>\n",
              "    <path d=\"M18.56 5.44l.94 2.06.94-2.06 2.06-.94-2.06-.94-.94-2.06-.94 2.06-2.06.94zm-11 1L8.5 8.5l.94-2.06 2.06-.94-2.06-.94L8.5 2.5l-.94 2.06-2.06.94zm10 10l.94 2.06.94-2.06 2.06-.94-2.06-.94-.94-2.06-.94 2.06-2.06.94z\"/><path d=\"M17.41 7.96l-1.37-1.37c-.4-.4-.92-.59-1.43-.59-.52 0-1.04.2-1.43.59L10.3 9.45l-7.72 7.72c-.78.78-.78 2.05 0 2.83L4 21.41c.39.39.9.59 1.41.59.51 0 1.02-.2 1.41-.59l7.78-7.78 2.81-2.81c.8-.78.8-2.07 0-2.86zM5.41 20L4 18.59l7.72-7.72 1.47 1.35L5.41 20z\"/>\n",
              "  </svg>\n",
              "      </button>\n",
              "      \n",
              "  <style>\n",
              "    .colab-df-container {\n",
              "      display:flex;\n",
              "      flex-wrap:wrap;\n",
              "      gap: 12px;\n",
              "    }\n",
              "\n",
              "    .colab-df-convert {\n",
              "      background-color: #E8F0FE;\n",
              "      border: none;\n",
              "      border-radius: 50%;\n",
              "      cursor: pointer;\n",
              "      display: none;\n",
              "      fill: #1967D2;\n",
              "      height: 32px;\n",
              "      padding: 0 0 0 0;\n",
              "      width: 32px;\n",
              "    }\n",
              "\n",
              "    .colab-df-convert:hover {\n",
              "      background-color: #E2EBFA;\n",
              "      box-shadow: 0px 1px 2px rgba(60, 64, 67, 0.3), 0px 1px 3px 1px rgba(60, 64, 67, 0.15);\n",
              "      fill: #174EA6;\n",
              "    }\n",
              "\n",
              "    [theme=dark] .colab-df-convert {\n",
              "      background-color: #3B4455;\n",
              "      fill: #D2E3FC;\n",
              "    }\n",
              "\n",
              "    [theme=dark] .colab-df-convert:hover {\n",
              "      background-color: #434B5C;\n",
              "      box-shadow: 0px 1px 3px 1px rgba(0, 0, 0, 0.15);\n",
              "      filter: drop-shadow(0px 1px 2px rgba(0, 0, 0, 0.3));\n",
              "      fill: #FFFFFF;\n",
              "    }\n",
              "  </style>\n",
              "\n",
              "      <script>\n",
              "        const buttonEl =\n",
              "          document.querySelector('#df-9636b614-7018-4eae-a9aa-4ae3f688605c button.colab-df-convert');\n",
              "        buttonEl.style.display =\n",
              "          google.colab.kernel.accessAllowed ? 'block' : 'none';\n",
              "\n",
              "        async function convertToInteractive(key) {\n",
              "          const element = document.querySelector('#df-9636b614-7018-4eae-a9aa-4ae3f688605c');\n",
              "          const dataTable =\n",
              "            await google.colab.kernel.invokeFunction('convertToInteractive',\n",
              "                                                     [key], {});\n",
              "          if (!dataTable) return;\n",
              "\n",
              "          const docLinkHtml = 'Like what you see? Visit the ' +\n",
              "            '<a target=\"_blank\" href=https://colab.research.google.com/notebooks/data_table.ipynb>data table notebook</a>'\n",
              "            + ' to learn more about interactive tables.';\n",
              "          element.innerHTML = '';\n",
              "          dataTable['output_type'] = 'display_data';\n",
              "          await google.colab.output.renderOutput(dataTable, element);\n",
              "          const docLink = document.createElement('div');\n",
              "          docLink.innerHTML = docLinkHtml;\n",
              "          element.appendChild(docLink);\n",
              "        }\n",
              "      </script>\n",
              "    </div>\n",
              "  </div>\n",
              "  "
            ]
          },
          "metadata": {},
          "execution_count": 77
        }
      ]
    },
    {
      "cell_type": "markdown",
      "source": [
        "### **Obs: Mesmo processamento feito nos dados de treino deve ser feito nos dados de teste (ou validação da competição)**"
      ],
      "metadata": {
        "id": "cvJosA7TWfQ4"
      }
    },
    {
      "cell_type": "code",
      "source": [
        "# Date_of_Journey\n",
        "test_df[\"Journey_day\"] = test_df['Date_of_Journey'].str.split('/').str[0].astype(int)\n",
        "test_df[\"Journey_month\"] = test_df['Date_of_Journey'].str.split('/').str[1].astype(int)\n",
        "test_df.drop([\"Date_of_Journey\"], axis = 1, inplace = True)"
      ],
      "metadata": {
        "id": "ABaEqKb-Vkso"
      },
      "execution_count": 78,
      "outputs": []
    },
    {
      "cell_type": "code",
      "source": [
        "# Dep_Time\n",
        "test_df[\"Dep_hour\"] = pd.to_datetime(test_df[\"Dep_Time\"]).dt.hour\n",
        "test_df[\"Dep_min\"] = pd.to_datetime(test_df[\"Dep_Time\"]).dt.minute\n",
        "test_df.drop([\"Dep_Time\"], axis = 1, inplace = True)\n"
      ],
      "metadata": {
        "id": "ZghOgvvIXrqh"
      },
      "execution_count": 79,
      "outputs": []
    },
    {
      "cell_type": "code",
      "source": [
        "# Arrival_Time\n",
        "test_df[\"Arrival_hour\"] = pd.to_datetime(test_df.Arrival_Time).dt.hour\n",
        "test_df[\"Arrival_min\"] = pd.to_datetime(test_df.Arrival_Time).dt.minute\n",
        "test_df.drop([\"Arrival_Time\"], axis =1, inplace = True)"
      ],
      "metadata": {
        "id": "DKaUP2_qYQ9r"
      },
      "execution_count": 80,
      "outputs": []
    },
    {
      "cell_type": "code",
      "source": [
        "train_df.info()"
      ],
      "metadata": {
        "colab": {
          "base_uri": "https://localhost:8080/"
        },
        "id": "Jy3ZeIgfd8vb",
        "outputId": "4dfd3208-a395-436b-bf9e-11975d50ac4d"
      },
      "execution_count": 81,
      "outputs": [
        {
          "output_type": "stream",
          "name": "stdout",
          "text": [
            "<class 'pandas.core.frame.DataFrame'>\n",
            "Int64Index: 10462 entries, 0 to 10682\n",
            "Data columns (total 14 columns):\n",
            " #   Column           Non-Null Count  Dtype \n",
            "---  ------           --------------  ----- \n",
            " 0   Airline          10462 non-null  object\n",
            " 1   Source           10462 non-null  object\n",
            " 2   Destination      10462 non-null  object\n",
            " 3   Route            10462 non-null  object\n",
            " 4   Duration         10462 non-null  int64 \n",
            " 5   Total_Stops      10462 non-null  object\n",
            " 6   Additional_Info  10462 non-null  object\n",
            " 7   Price            10462 non-null  int64 \n",
            " 8   Journey_day      10462 non-null  int64 \n",
            " 9   Journey_month    10462 non-null  int64 \n",
            " 10  Dep_hour         10462 non-null  int64 \n",
            " 11  Dep_min          10462 non-null  int64 \n",
            " 12  Arrival_hour     10462 non-null  int64 \n",
            " 13  Arrival_min      10462 non-null  int64 \n",
            "dtypes: int64(8), object(6)\n",
            "memory usage: 1.2+ MB\n"
          ]
        }
      ]
    },
    {
      "cell_type": "code",
      "source": [
        "test_df.info()"
      ],
      "metadata": {
        "colab": {
          "base_uri": "https://localhost:8080/"
        },
        "id": "MhmVNyoIeN3o",
        "outputId": "bc10810d-4831-4692-a3e8-7168a73bf31d"
      },
      "execution_count": 82,
      "outputs": [
        {
          "output_type": "stream",
          "name": "stdout",
          "text": [
            "<class 'pandas.core.frame.DataFrame'>\n",
            "RangeIndex: 2671 entries, 0 to 2670\n",
            "Data columns (total 13 columns):\n",
            " #   Column           Non-Null Count  Dtype \n",
            "---  ------           --------------  ----- \n",
            " 0   Airline          2671 non-null   object\n",
            " 1   Source           2671 non-null   object\n",
            " 2   Destination      2671 non-null   object\n",
            " 3   Route            2671 non-null   object\n",
            " 4   Duration         2671 non-null   int64 \n",
            " 5   Total_Stops      2671 non-null   object\n",
            " 6   Additional_Info  2671 non-null   object\n",
            " 7   Journey_day      2671 non-null   int64 \n",
            " 8   Journey_month    2671 non-null   int64 \n",
            " 9   Dep_hour         2671 non-null   int64 \n",
            " 10  Dep_min          2671 non-null   int64 \n",
            " 11  Arrival_hour     2671 non-null   int64 \n",
            " 12  Arrival_min      2671 non-null   int64 \n",
            "dtypes: int64(7), object(6)\n",
            "memory usage: 271.4+ KB\n"
          ]
        }
      ]
    },
    {
      "cell_type": "code",
      "source": [
        "# Plotting Bar chart for Months (Duration) vs Number of Flights\n",
        "\n",
        "plt.figure(figsize = (10,5))\n",
        "plt.title('Contagem de voos mês a mês')\n",
        "ax=sns.countplot(x = 'Journey_month', data = train_df)\n",
        "plt.xlabel('Mês')\n",
        "plt.ylabel('Quantidade de voos')"
      ],
      "metadata": {
        "colab": {
          "base_uri": "https://localhost:8080/",
          "height": 367
        },
        "id": "fVXnSXCkeXV5",
        "outputId": "2987b9a0-df55-4ad5-ff94-69209af1615e"
      },
      "execution_count": 83,
      "outputs": [
        {
          "output_type": "execute_result",
          "data": {
            "text/plain": [
              "Text(0, 0.5, 'Quantidade de voos')"
            ]
          },
          "metadata": {},
          "execution_count": 83
        },
        {
          "output_type": "display_data",
          "data": {
            "text/plain": [
              "<Figure size 720x360 with 1 Axes>"
            ],
            "image/png": "[encoded data removed]"
          },
          "metadata": {
            "needs_background": "light"
          }
        }
      ]
    },
    {
      "cell_type": "code",
      "source": [
        "# Plotting Bar chart for Types of Airline vs Number of Fights\n",
        "\n",
        "plt.figure(figsize = (20,5))\n",
        "plt.title('Contagem de voos com diferentes companias aéreas')\n",
        "ax=sns.countplot(x = 'Airline', data = train_df)\n",
        "plt.xlabel('Companias')\n",
        "plt.ylabel('Quantidade de voos')\n",
        "plt.xticks(rotation = 45)"
      ],
      "metadata": {
        "colab": {
          "base_uri": "https://localhost:8080/",
          "height": 506
        },
        "id": "TMKxobFeh_JZ",
        "outputId": "2a9f39ac-e707-4ed4-afdb-ef2ad63b0e40"
      },
      "execution_count": 84,
      "outputs": [
        {
          "output_type": "execute_result",
          "data": {
            "text/plain": [
              "(array([ 0,  1,  2,  3,  4,  5,  6,  7,  8,  9, 10, 11]),\n",
              " <a list of 12 Text major ticklabel objects>)"
            ]
          },
          "metadata": {},
          "execution_count": 84
        },
        {
          "output_type": "display_data",
          "data": {
            "text/plain": [
              "<Figure size 1440x360 with 1 Axes>"
            ],
            "image/png": "[encoded data removed]"
          },
          "metadata": {
            "needs_background": "light"
          }
        }
      ]
    },
    {
      "cell_type": "code",
      "source": [
        "# Plotting Ticket Prices vs Airlines\n",
        "plt.figure(figsize = (15, 4))\n",
        "plt.title('Preço de passagem aérea por Compania')\n",
        "plt.scatter(train_df['Airline'], train_df['Price'])\n",
        "plt.xticks\n",
        "plt.xlabel('Compania')\n",
        "plt.ylabel('Preço da Passagem')\n",
        "plt.xticks(rotation = 45)"
      ],
      "metadata": {
        "colab": {
          "base_uri": "https://localhost:8080/",
          "height": 452
        },
        "id": "VGVRRD47mZxp",
        "outputId": "aaaadd59-367e-4b3a-d4ed-e74f89efe6bb"
      },
      "execution_count": 85,
      "outputs": [
        {
          "output_type": "execute_result",
          "data": {
            "text/plain": [
              "([0, 1, 2, 3, 4, 5, 6, 7, 8, 9, 10, 11],\n",
              " <a list of 12 Text major ticklabel objects>)"
            ]
          },
          "metadata": {},
          "execution_count": 85
        },
        {
          "output_type": "display_data",
          "data": {
            "text/plain": [
              "<Figure size 1080x288 with 1 Axes>"
            ],
            "image/png": "[encoded data removed]"
          },
          "metadata": {
            "needs_background": "light"
          }
        }
      ]
    },
    {
      "cell_type": "code",
      "source": [
        "# Plotting Correation\n",
        "plt.figure(figsize = (11,11))\n",
        "sns.heatmap(train_df.corr(),annot = True, cmap = \"RdYlGn\")\n",
        "plt.show()"
      ],
      "metadata": {
        "colab": {
          "base_uri": "https://localhost:8080/",
          "height": 715
        },
        "id": "e3EW6cvmnoP_",
        "outputId": "22badc1b-84da-48e3-a2a4-e5d372d33646"
      },
      "execution_count": 86,
      "outputs": [
        {
          "output_type": "display_data",
          "data": {
            "text/plain": [
              "<Figure size 792x792 with 2 Axes>"
            ],
            "image/png": "[encoded data removed]"
          },
          "metadata": {
            "needs_background": "light"
          }
        }
      ]
    },
    {
      "cell_type": "code",
      "source": [
        "# Dropping the Price\n",
        "data = train_df.drop([\"Price\"], axis = 1)"
      ],
      "metadata": {
        "id": "pf4qwQok0NpO"
      },
      "execution_count": 87,
      "outputs": []
    },
    {
      "cell_type": "code",
      "source": [
        "# Categorical Data and Numerical Data\n",
        "train_categorical_data = data.select_dtypes(exclude=['int64', 'float','int32'])\n",
        "train_numerical_data = data.select_dtypes(include=['int64', 'float','int32'])\n",
        "\n",
        "test_categorical_data = test_df.select_dtypes(exclude=['int64', 'float','int32','int32'])\n",
        "test_numerical_data  = test_df.select_dtypes(include=['int64', 'float','int32'])"
      ],
      "metadata": {
        "id": "zCBgewt70fY-"
      },
      "execution_count": 88,
      "outputs": []
    },
    {
      "cell_type": "code",
      "source": [
        "# Label Encode and Hot Encode for Categorical Columns\n",
        "le = LabelEncoder()\n",
        "train_categorical_data = train_categorical_data.apply(LabelEncoder().fit_transform)\n",
        "test_categorical_data = test_categorical_data.apply(LabelEncoder().fit_transform)"
      ],
      "metadata": {
        "id": "fh_gSRU8oMVu"
      },
      "execution_count": 89,
      "outputs": []
    },
    {
      "cell_type": "code",
      "source": [
        "# Concatenating both Catagorical Data and Numerical Data\n",
        "X = pd.concat([train_categorical_data, train_numerical_data], axis=1)\n",
        "y = train_df['Price']\n",
        "test_set = pd.concat([test_categorical_data, test_numerical_data], axis=1)\n",
        "X.head()"
      ],
      "metadata": {
        "colab": {
          "base_uri": "https://localhost:8080/",
          "height": 206
        },
        "id": "V7-SEIBNoYQ4",
        "outputId": "5260f533-683b-4cd8-991e-23f7b57ce31e"
      },
      "execution_count": 90,
      "outputs": [
        {
          "output_type": "execute_result",
          "data": {
            "text/plain": [
              "   Airline  Source  Destination  Route  Total_Stops  Additional_Info  \\\n",
              "0        3       0            5     18            4                8   \n",
              "1        1       3            0     84            1                8   \n",
              "2        4       2            1    118            1                8   \n",
              "3        3       3            0     91            0                8   \n",
              "4        3       0            5     29            0                8   \n",
              "\n",
              "   Duration  Journey_day  Journey_month  Dep_hour  Dep_min  Arrival_hour  \\\n",
              "0       170           24              3        22       20             1   \n",
              "1       445            1              5         5       50            13   \n",
              "2      1140            9              6         9       25             4   \n",
              "3       325           12              5        18        5            23   \n",
              "4       285            1              3        16       50            21   \n",
              "\n",
              "   Arrival_min  \n",
              "0           10  \n",
              "1           15  \n",
              "2           25  \n",
              "3           30  \n",
              "4           35  "
            ],
            "text/html": [
              "\n",
              "  <div id=\"df-235e698a-383e-488f-891e-7182585fca62\">\n",
              "    <div class=\"colab-df-container\">\n",
              "      <div>\n",
              "<style scoped>\n",
              "    .dataframe tbody tr th:only-of-type {\n",
              "        vertical-align: middle;\n",
              "    }\n",
              "\n",
              "    .dataframe tbody tr th {\n",
              "        vertical-align: top;\n",
              "    }\n",
              "\n",
              "    .dataframe thead th {\n",
              "        text-align: right;\n",
              "    }\n",
              "</style>\n",
              "<table border=\"1\" class=\"dataframe\">\n",
              "  <thead>\n",
              "    <tr style=\"text-align: right;\">\n",
              "      <th></th>\n",
              "      <th>Airline</th>\n",
              "      <th>Source</th>\n",
              "      <th>Destination</th>\n",
              "      <th>Route</th>\n",
              "      <th>Total_Stops</th>\n",
              "      <th>Additional_Info</th>\n",
              "      <th>Duration</th>\n",
              "      <th>Journey_day</th>\n",
              "      <th>Journey_month</th>\n",
              "      <th>Dep_hour</th>\n",
              "      <th>Dep_min</th>\n",
              "      <th>Arrival_hour</th>\n",
              "      <th>Arrival_min</th>\n",
              "    </tr>\n",
              "  </thead>\n",
              "  <tbody>\n",
              "    <tr>\n",
              "      <th>0</th>\n",
              "      <td>3</td>\n",
              "      <td>0</td>\n",
              "      <td>5</td>\n",
              "      <td>18</td>\n",
              "      <td>4</td>\n",
              "      <td>8</td>\n",
              "      <td>170</td>\n",
              "      <td>24</td>\n",
              "      <td>3</td>\n",
              "      <td>22</td>\n",
              "      <td>20</td>\n",
              "      <td>1</td>\n",
              "      <td>10</td>\n",
              "    </tr>\n",
              "    <tr>\n",
              "      <th>1</th>\n",
              "      <td>1</td>\n",
              "      <td>3</td>\n",
              "      <td>0</td>\n",
              "      <td>84</td>\n",
              "      <td>1</td>\n",
              "      <td>8</td>\n",
              "      <td>445</td>\n",
              "      <td>1</td>\n",
              "      <td>5</td>\n",
              "      <td>5</td>\n",
              "      <td>50</td>\n",
              "      <td>13</td>\n",
              "      <td>15</td>\n",
              "    </tr>\n",
              "    <tr>\n",
              "      <th>2</th>\n",
              "      <td>4</td>\n",
              "      <td>2</td>\n",
              "      <td>1</td>\n",
              "      <td>118</td>\n",
              "      <td>1</td>\n",
              "      <td>8</td>\n",
              "      <td>1140</td>\n",
              "      <td>9</td>\n",
              "      <td>6</td>\n",
              "      <td>9</td>\n",
              "      <td>25</td>\n",
              "      <td>4</td>\n",
              "      <td>25</td>\n",
              "    </tr>\n",
              "    <tr>\n",
              "      <th>3</th>\n",
              "      <td>3</td>\n",
              "      <td>3</td>\n",
              "      <td>0</td>\n",
              "      <td>91</td>\n",
              "      <td>0</td>\n",
              "      <td>8</td>\n",
              "      <td>325</td>\n",
              "      <td>12</td>\n",
              "      <td>5</td>\n",
              "      <td>18</td>\n",
              "      <td>5</td>\n",
              "      <td>23</td>\n",
              "      <td>30</td>\n",
              "    </tr>\n",
              "    <tr>\n",
              "      <th>4</th>\n",
              "      <td>3</td>\n",
              "      <td>0</td>\n",
              "      <td>5</td>\n",
              "      <td>29</td>\n",
              "      <td>0</td>\n",
              "      <td>8</td>\n",
              "      <td>285</td>\n",
              "      <td>1</td>\n",
              "      <td>3</td>\n",
              "      <td>16</td>\n",
              "      <td>50</td>\n",
              "      <td>21</td>\n",
              "      <td>35</td>\n",
              "    </tr>\n",
              "  </tbody>\n",
              "</table>\n",
              "</div>\n",
              "      <button class=\"colab-df-convert\" onclick=\"convertToInteractive('df-235e698a-383e-488f-891e-7182585fca62')\"\n",
              "              title=\"Convert this dataframe to an interactive table.\"\n",
              "              style=\"display:none;\">\n",
              "        \n",
              "  <svg xmlns=\"http://www.w3.org/2000/svg\" height=\"24px\"viewBox=\"0 0 24 24\"\n",
              "       width=\"24px\">\n",
              "    <path d=\"M0 0h24v24H0V0z\" fill=\"none\"/>\n",
              "    <path d=\"M18.56 5.44l.94 2.06.94-2.06 2.06-.94-2.06-.94-.94-2.06-.94 2.06-2.06.94zm-11 1L8.5 8.5l.94-2.06 2.06-.94-2.06-.94L8.5 2.5l-.94 2.06-2.06.94zm10 10l.94 2.06.94-2.06 2.06-.94-2.06-.94-.94-2.06-.94 2.06-2.06.94z\"/><path d=\"M17.41 7.96l-1.37-1.37c-.4-.4-.92-.59-1.43-.59-.52 0-1.04.2-1.43.59L10.3 9.45l-7.72 7.72c-.78.78-.78 2.05 0 2.83L4 21.41c.39.39.9.59 1.41.59.51 0 1.02-.2 1.41-.59l7.78-7.78 2.81-2.81c.8-.78.8-2.07 0-2.86zM5.41 20L4 18.59l7.72-7.72 1.47 1.35L5.41 20z\"/>\n",
              "  </svg>\n",
              "      </button>\n",
              "      \n",
              "  <style>\n",
              "    .colab-df-container {\n",
              "      display:flex;\n",
              "      flex-wrap:wrap;\n",
              "      gap: 12px;\n",
              "    }\n",
              "\n",
              "    .colab-df-convert {\n",
              "      background-color: #E8F0FE;\n",
              "      border: none;\n",
              "      border-radius: 50%;\n",
              "      cursor: pointer;\n",
              "      display: none;\n",
              "      fill: #1967D2;\n",
              "      height: 32px;\n",
              "      padding: 0 0 0 0;\n",
              "      width: 32px;\n",
              "    }\n",
              "\n",
              "    .colab-df-convert:hover {\n",
              "      background-color: #E2EBFA;\n",
              "      box-shadow: 0px 1px 2px rgba(60, 64, 67, 0.3), 0px 1px 3px 1px rgba(60, 64, 67, 0.15);\n",
              "      fill: #174EA6;\n",
              "    }\n",
              "\n",
              "    [theme=dark] .colab-df-convert {\n",
              "      background-color: #3B4455;\n",
              "      fill: #D2E3FC;\n",
              "    }\n",
              "\n",
              "    [theme=dark] .colab-df-convert:hover {\n",
              "      background-color: #434B5C;\n",
              "      box-shadow: 0px 1px 3px 1px rgba(0, 0, 0, 0.15);\n",
              "      filter: drop-shadow(0px 1px 2px rgba(0, 0, 0, 0.3));\n",
              "      fill: #FFFFFF;\n",
              "    }\n",
              "  </style>\n",
              "\n",
              "      <script>\n",
              "        const buttonEl =\n",
              "          document.querySelector('#df-235e698a-383e-488f-891e-7182585fca62 button.colab-df-convert');\n",
              "        buttonEl.style.display =\n",
              "          google.colab.kernel.accessAllowed ? 'block' : 'none';\n",
              "\n",
              "        async function convertToInteractive(key) {\n",
              "          const element = document.querySelector('#df-235e698a-383e-488f-891e-7182585fca62');\n",
              "          const dataTable =\n",
              "            await google.colab.kernel.invokeFunction('convertToInteractive',\n",
              "                                                     [key], {});\n",
              "          if (!dataTable) return;\n",
              "\n",
              "          const docLinkHtml = 'Like what you see? Visit the ' +\n",
              "            '<a target=\"_blank\" href=https://colab.research.google.com/notebooks/data_table.ipynb>data table notebook</a>'\n",
              "            + ' to learn more about interactive tables.';\n",
              "          element.innerHTML = '';\n",
              "          dataTable['output_type'] = 'display_data';\n",
              "          await google.colab.output.renderOutput(dataTable, element);\n",
              "          const docLink = document.createElement('div');\n",
              "          docLink.innerHTML = docLinkHtml;\n",
              "          element.appendChild(docLink);\n",
              "        }\n",
              "      </script>\n",
              "    </div>\n",
              "  </div>\n",
              "  "
            ]
          },
          "metadata": {},
          "execution_count": 90
        }
      ]
    },
    {
      "cell_type": "code",
      "source": [
        "y.head()"
      ],
      "metadata": {
        "colab": {
          "base_uri": "https://localhost:8080/"
        },
        "id": "6Vdq_IcBobFS",
        "outputId": "a6b7b542-ac08-436d-cbdb-6b8ce2c3dc14"
      },
      "execution_count": 91,
      "outputs": [
        {
          "output_type": "execute_result",
          "data": {
            "text/plain": [
              "0     3897\n",
              "1     7662\n",
              "2    13882\n",
              "3     6218\n",
              "4    13302\n",
              "Name: Price, dtype: int64"
            ]
          },
          "metadata": {},
          "execution_count": 91
        }
      ]
    },
    {
      "cell_type": "code",
      "source": [
        "# Calculating Mean Absolute Percentage Error\n",
        "def mean_absolute_percentage_error(y_true, y_pred): \n",
        "\n",
        "    y_true, y_pred = np.array(y_true), np.array(y_pred)\n",
        "    \n",
        "    return np.mean(np.abs((y_true - y_pred) / y_true)) * 100"
      ],
      "metadata": {
        "id": "wLujuMF6ofPS"
      },
      "execution_count": 92,
      "outputs": []
    },
    {
      "cell_type": "code",
      "source": [
        "# Separação dos dados de treino e teste para a MP\n",
        "X_train, X_test, y_train, y_test = train_test_split(X, y, test_size = 0.3, random_state = 7)"
      ],
      "metadata": {
        "id": "5wbWfUVQoiBS"
      },
      "execution_count": 93,
      "outputs": []
    },
    {
      "cell_type": "code",
      "source": [
        "print(\"The size of training input is\", X_train.shape)\n",
        "print(\"The size of training output is\", y_train.shape)\n",
        "print(\"The size of testing input is\", X_test.shape)\n",
        "print(\"The size of testing output is\", y_test.shape)"
      ],
      "metadata": {
        "colab": {
          "base_uri": "https://localhost:8080/"
        },
        "id": "mqPmjNAmonPR",
        "outputId": "c4cbbc2c-429d-4089-8084-8d5597bf04a1"
      },
      "execution_count": 94,
      "outputs": [
        {
          "output_type": "stream",
          "name": "stdout",
          "text": [
            "The size of training input is (7323, 13)\n",
            "The size of training output is (7323,)\n",
            "The size of testing input is (3139, 13)\n",
            "The size of testing output is (3139,)\n"
          ]
        }
      ]
    },
    {
      "cell_type": "markdown",
      "source": [
        "![](data:image/jpeg;base64,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)"
      ],
      "metadata": {
        "id": "ER9Yb5WJouvg"
      }
    },
    {
      "cell_type": "markdown",
      "source": [
        "### Avalia com dados de Treino"
      ],
      "metadata": {
        "id": "TPzMtX_Xo0Uh"
      }
    },
    {
      "cell_type": "code",
      "source": [
        "# Printando as Métricas de Avaliação da MP com dados de teste\n",
        "print(\"Test Results for Decision Tree Regressor Model:\")\n",
        "print(\"Root Mean Squared Error: \", sqrt(mse(y_test, y_test_pred)))\n",
        "print(\"Mean Absolute % Error: \", round(mean_absolute_percentage_error(y_test, y_test_pred)))\n",
        "print(\"R-Squared: \", r2_score(y_test, y_test_pred))"
      ],
      "metadata": {
        "colab": {
          "base_uri": "https://localhost:8080/",
          "height": 252
        },
        "id": "04T8TBOCo1bs",
        "outputId": "7dbb33c7-0e6c-463c-be94-9806d1e7c603"
      },
      "execution_count": 95,
      "outputs": [
        {
          "output_type": "stream",
          "name": "stdout",
          "text": [
            "Test Results for Decision Tree Regressor Model:\n"
          ]
        },
        {
          "output_type": "error",
          "ename": "NameError",
          "evalue": "ignored",
          "traceback": [
            "\u001b[0;31m---------------------------------------------------------------------------\u001b[0m",
            "\u001b[0;31mNameError\u001b[0m                                 Traceback (most recent call last)",
            "\u001b[0;32m<ipython-input-95-5d050071d4f5>\u001b[0m in \u001b[0;36m<module>\u001b[0;34m()\u001b[0m\n\u001b[1;32m      1\u001b[0m \u001b[0;31m# Printando as Métricas de Avaliação da MP com dados de teste\u001b[0m\u001b[0;34m\u001b[0m\u001b[0;34m\u001b[0m\u001b[0;34m\u001b[0m\u001b[0m\n\u001b[1;32m      2\u001b[0m \u001b[0mprint\u001b[0m\u001b[0;34m(\u001b[0m\u001b[0;34m\"Test Results for Decision Tree Regressor Model:\"\u001b[0m\u001b[0;34m)\u001b[0m\u001b[0;34m\u001b[0m\u001b[0;34m\u001b[0m\u001b[0m\n\u001b[0;32m----> 3\u001b[0;31m \u001b[0mprint\u001b[0m\u001b[0;34m(\u001b[0m\u001b[0;34m\"Root Mean Squared Error: \"\u001b[0m\u001b[0;34m,\u001b[0m \u001b[0msqrt\u001b[0m\u001b[0;34m(\u001b[0m\u001b[0mmse\u001b[0m\u001b[0;34m(\u001b[0m\u001b[0my_test\u001b[0m\u001b[0;34m,\u001b[0m \u001b[0my_test_pred\u001b[0m\u001b[0;34m)\u001b[0m\u001b[0;34m)\u001b[0m\u001b[0;34m)\u001b[0m\u001b[0;34m\u001b[0m\u001b[0;34m\u001b[0m\u001b[0m\n\u001b[0m\u001b[1;32m      4\u001b[0m \u001b[0mprint\u001b[0m\u001b[0;34m(\u001b[0m\u001b[0;34m\"Mean Absolute % Error: \"\u001b[0m\u001b[0;34m,\u001b[0m \u001b[0mround\u001b[0m\u001b[0;34m(\u001b[0m\u001b[0mmean_absolute_percentage_error\u001b[0m\u001b[0;34m(\u001b[0m\u001b[0my_test\u001b[0m\u001b[0;34m,\u001b[0m \u001b[0my_test_pred\u001b[0m\u001b[0;34m)\u001b[0m\u001b[0;34m)\u001b[0m\u001b[0;34m)\u001b[0m\u001b[0;34m\u001b[0m\u001b[0;34m\u001b[0m\u001b[0m\n\u001b[1;32m      5\u001b[0m \u001b[0mprint\u001b[0m\u001b[0;34m(\u001b[0m\u001b[0;34m\"R-Squared: \"\u001b[0m\u001b[0;34m,\u001b[0m \u001b[0mr2_score\u001b[0m\u001b[0;34m(\u001b[0m\u001b[0my_test\u001b[0m\u001b[0;34m,\u001b[0m \u001b[0my_test_pred\u001b[0m\u001b[0;34m)\u001b[0m\u001b[0;34m)\u001b[0m\u001b[0;34m\u001b[0m\u001b[0;34m\u001b[0m\u001b[0m\n",
            "\u001b[0;31mNameError\u001b[0m: name 'y_test_pred' is not defined"
          ]
        }
      ]
    },
    {
      "cell_type": "markdown",
      "source": [
        "## Fim!\n",
        "\n",
        "![](https://1.bp.blogspot.com/-af_NYssF5Wc/WYF6HZnV7SI/AAAAAAADKRU/x0Iv42Z5hkEvFPmEKM9_IAoAxICi8yazACLcBGAs/s1600/e6xxel3fpbmewadcegua.gif)\n"
      ],
      "metadata": {
        "id": "0pJw-mDPpg6c"
      }
    },
    {
      "cell_type": "code",
      "source": [
        ""
      ],
      "metadata": {
        "id": "NJhsecjypZIp"
      },
      "execution_count": null,
      "outputs": []
    }
  ]
}